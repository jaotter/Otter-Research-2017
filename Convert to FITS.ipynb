{
 "cells": [
  {
   "cell_type": "code",
   "execution_count": 1,
   "metadata": {
    "collapsed": true
   },
   "outputs": [],
   "source": [
    "from astropy.io import fits\n",
    "from astropy.table import Table\n",
    "import numpy as np"
   ]
  },
  {
   "cell_type": "code",
   "execution_count": 2,
   "metadata": {
    "collapsed": true
   },
   "outputs": [],
   "source": [
    "loc = '../galaxy_DR7/'\n",
    "f = 'SDSS7'\n",
    "data = Table.read(loc+f, format='ascii')"
   ]
  },
  {
   "cell_type": "code",
   "execution_count": 3,
   "metadata": {
    "collapsed": true
   },
   "outputs": [],
   "source": [
    "data.write('../'+f+'.fits', format='fits')\n",
    "#hdu = fits.PrimaryHDU(data)\n",
    "#hdulist = fits.HDUList([hdu])\n",
    "#hdulist.writeto('../group_sdss_zoo.fits')"
   ]
  },
  {
   "cell_type": "code",
   "execution_count": 27,
   "metadata": {},
   "outputs": [
    {
     "name": "stdout",
     "output_type": "stream",
     "text": [
      "name:\n",
      "    ['dr7objid', 'ra', 'dec', 'rastring', 'decstring', 'sample', 'gz2_class', 'total_classifications', 'total_votes', 't01_smooth_or_features_a01_smooth_count', 't01_smooth_or_features_a01_smooth_weight', 't01_smooth_or_features_a01_smooth_fraction', 't01_smooth_or_features_a01_smooth_weighted_fraction', 't01_smooth_or_features_a01_smooth_debiased', 't01_smooth_or_features_a01_smooth_flag', 't01_smooth_or_features_a02_features_or_disk_count', 't01_smooth_or_features_a02_features_or_disk_weight', 't01_smooth_or_features_a02_features_or_disk_fraction', 't01_smooth_or_features_a02_features_or_disk_weighted_fraction', 't01_smooth_or_features_a02_features_or_disk_debiased', 't01_smooth_or_features_a02_features_or_disk_flag', 't01_smooth_or_features_a03_star_or_artifact_count', 't01_smooth_or_features_a03_star_or_artifact_weight', 't01_smooth_or_features_a03_star_or_artifact_fraction', 't01_smooth_or_features_a03_star_or_artifact_weighted_fraction', 't01_smooth_or_features_a03_star_or_artifact_debiased', 't01_smooth_or_features_a03_star_or_artifact_flag', 't02_edgeon_a04_yes_count', 't02_edgeon_a04_yes_weight', 't02_edgeon_a04_yes_fraction', 't02_edgeon_a04_yes_weighted_fraction', 't02_edgeon_a04_yes_debiased', 't02_edgeon_a04_yes_flag', 't02_edgeon_a05_no_count', 't02_edgeon_a05_no_weight', 't02_edgeon_a05_no_fraction', 't02_edgeon_a05_no_weighted_fraction', 't02_edgeon_a05_no_debiased', 't02_edgeon_a05_no_flag', 't03_bar_a06_bar_count', 't03_bar_a06_bar_weight', 't03_bar_a06_bar_fraction', 't03_bar_a06_bar_weighted_fraction', 't03_bar_a06_bar_debiased', 't03_bar_a06_bar_flag', 't03_bar_a07_no_bar_count', 't03_bar_a07_no_bar_weight', 't03_bar_a07_no_bar_fraction', 't03_bar_a07_no_bar_weighted_fraction', 't03_bar_a07_no_bar_debiased', 't03_bar_a07_no_bar_flag', 't04_spiral_a08_spiral_count', 't04_spiral_a08_spiral_weight', 't04_spiral_a08_spiral_fraction', 't04_spiral_a08_spiral_weighted_fraction', 't04_spiral_a08_spiral_debiased', 't04_spiral_a08_spiral_flag', 't04_spiral_a09_no_spiral_count', 't04_spiral_a09_no_spiral_weight', 't04_spiral_a09_no_spiral_fraction', 't04_spiral_a09_no_spiral_weighted_fraction', 't04_spiral_a09_no_spiral_debiased', 't04_spiral_a09_no_spiral_flag', 't05_bulge_prominence_a10_no_bulge_count', 't05_bulge_prominence_a10_no_bulge_weight', 't05_bulge_prominence_a10_no_bulge_fraction', 't05_bulge_prominence_a10_no_bulge_weighted_fraction', 't05_bulge_prominence_a10_no_bulge_debiased', 't05_bulge_prominence_a10_no_bulge_flag', 't05_bulge_prominence_a11_just_noticeable_count', 't05_bulge_prominence_a11_just_noticeable_weight', 't05_bulge_prominence_a11_just_noticeable_fraction', 't05_bulge_prominence_a11_just_noticeable_weighted_fraction', 't05_bulge_prominence_a11_just_noticeable_debiased', 't05_bulge_prominence_a11_just_noticeable_flag', 't05_bulge_prominence_a12_obvious_count', 't05_bulge_prominence_a12_obvious_weight', 't05_bulge_prominence_a12_obvious_fraction', 't05_bulge_prominence_a12_obvious_weighted_fraction', 't05_bulge_prominence_a12_obvious_debiased', 't05_bulge_prominence_a12_obvious_flag', 't05_bulge_prominence_a13_dominant_count', 't05_bulge_prominence_a13_dominant_weight', 't05_bulge_prominence_a13_dominant_fraction', 't05_bulge_prominence_a13_dominant_weighted_fraction', 't05_bulge_prominence_a13_dominant_debiased', 't05_bulge_prominence_a13_dominant_flag', 't06_odd_a14_yes_count', 't06_odd_a14_yes_weight', 't06_odd_a14_yes_fraction', 't06_odd_a14_yes_weighted_fraction', 't06_odd_a14_yes_debiased', 't06_odd_a14_yes_flag', 't06_odd_a15_no_count', 't06_odd_a15_no_weight', 't06_odd_a15_no_fraction', 't06_odd_a15_no_weighted_fraction', 't06_odd_a15_no_debiased', 't06_odd_a15_no_flag', 't07_rounded_a16_completely_round_count', 't07_rounded_a16_completely_round_weight', 't07_rounded_a16_completely_round_fraction', 't07_rounded_a16_completely_round_weighted_fraction', 't07_rounded_a16_completely_round_debiased', 't07_rounded_a16_completely_round_flag', 't07_rounded_a17_in_between_count', 't07_rounded_a17_in_between_weight', 't07_rounded_a17_in_between_fraction', 't07_rounded_a17_in_between_weighted_fraction', 't07_rounded_a17_in_between_debiased', 't07_rounded_a17_in_between_flag', 't07_rounded_a18_cigar_shaped_count', 't07_rounded_a18_cigar_shaped_weight', 't07_rounded_a18_cigar_shaped_fraction', 't07_rounded_a18_cigar_shaped_weighted_fraction', 't07_rounded_a18_cigar_shaped_debiased', 't07_rounded_a18_cigar_shaped_flag', 't08_odd_feature_a19_ring_count', 't08_odd_feature_a19_ring_weight', 't08_odd_feature_a19_ring_fraction', 't08_odd_feature_a19_ring_weighted_fraction', 't08_odd_feature_a19_ring_debiased', 't08_odd_feature_a19_ring_flag', 't08_odd_feature_a20_lens_or_arc_count', 't08_odd_feature_a20_lens_or_arc_weight', 't08_odd_feature_a20_lens_or_arc_fraction', 't08_odd_feature_a20_lens_or_arc_weighted_fraction', 't08_odd_feature_a20_lens_or_arc_debiased', 't08_odd_feature_a20_lens_or_arc_flag', 't08_odd_feature_a21_disturbed_count', 't08_odd_feature_a21_disturbed_weight', 't08_odd_feature_a21_disturbed_fraction', 't08_odd_feature_a21_disturbed_weighted_fraction', 't08_odd_feature_a21_disturbed_debiased', 't08_odd_feature_a21_disturbed_flag', 't08_odd_feature_a22_irregular_count', 't08_odd_feature_a22_irregular_weight', 't08_odd_feature_a22_irregular_fraction', 't08_odd_feature_a22_irregular_weighted_fraction', 't08_odd_feature_a22_irregular_debiased', 't08_odd_feature_a22_irregular_flag', 't08_odd_feature_a23_other_count', 't08_odd_feature_a23_other_weight', 't08_odd_feature_a23_other_fraction', 't08_odd_feature_a23_other_weighted_fraction', 't08_odd_feature_a23_other_debiased', 't08_odd_feature_a23_other_flag', 't08_odd_feature_a24_merger_count', 't08_odd_feature_a24_merger_weight', 't08_odd_feature_a24_merger_fraction', 't08_odd_feature_a24_merger_weighted_fraction', 't08_odd_feature_a24_merger_debiased', 't08_odd_feature_a24_merger_flag', 't08_odd_feature_a38_dust_lane_count', 't08_odd_feature_a38_dust_lane_weight', 't08_odd_feature_a38_dust_lane_fraction', 't08_odd_feature_a38_dust_lane_weighted_fraction', 't08_odd_feature_a38_dust_lane_debiased', 't08_odd_feature_a38_dust_lane_flag', 't09_bulge_shape_a25_rounded_count', 't09_bulge_shape_a25_rounded_weight', 't09_bulge_shape_a25_rounded_fraction', 't09_bulge_shape_a25_rounded_weighted_fraction', 't09_bulge_shape_a25_rounded_debiased', 't09_bulge_shape_a25_rounded_flag', 't09_bulge_shape_a26_boxy_count', 't09_bulge_shape_a26_boxy_weight', 't09_bulge_shape_a26_boxy_fraction', 't09_bulge_shape_a26_boxy_weighted_fraction', 't09_bulge_shape_a26_boxy_debiased', 't09_bulge_shape_a26_boxy_flag', 't09_bulge_shape_a27_no_bulge_count', 't09_bulge_shape_a27_no_bulge_weight', 't09_bulge_shape_a27_no_bulge_fraction', 't09_bulge_shape_a27_no_bulge_weighted_fraction', 't09_bulge_shape_a27_no_bulge_debiased', 't09_bulge_shape_a27_no_bulge_flag', 't10_arms_winding_a28_tight_count', 't10_arms_winding_a28_tight_weight', 't10_arms_winding_a28_tight_fraction', 't10_arms_winding_a28_tight_weighted_fraction', 't10_arms_winding_a28_tight_debiased', 't10_arms_winding_a28_tight_flag', 't10_arms_winding_a29_medium_count', 't10_arms_winding_a29_medium_weight', 't10_arms_winding_a29_medium_fraction', 't10_arms_winding_a29_medium_weighted_fraction', 't10_arms_winding_a29_medium_debiased', 't10_arms_winding_a29_medium_flag', 't10_arms_winding_a30_loose_count', 't10_arms_winding_a30_loose_weight', 't10_arms_winding_a30_loose_fraction', 't10_arms_winding_a30_loose_weighted_fraction', 't10_arms_winding_a30_loose_debiased', 't10_arms_winding_a30_loose_flag', 't11_arms_number_a31_1_count', 't11_arms_number_a31_1_weight', 't11_arms_number_a31_1_fraction', 't11_arms_number_a31_1_weighted_fraction', 't11_arms_number_a31_1_debiased', 't11_arms_number_a31_1_flag', 't11_arms_number_a32_2_count', 't11_arms_number_a32_2_weight', 't11_arms_number_a32_2_fraction', 't11_arms_number_a32_2_weighted_fraction', 't11_arms_number_a32_2_debiased', 't11_arms_number_a32_2_flag', 't11_arms_number_a33_3_count', 't11_arms_number_a33_3_weight', 't11_arms_number_a33_3_fraction', 't11_arms_number_a33_3_weighted_fraction', 't11_arms_number_a33_3_debiased', 't11_arms_number_a33_3_flag', 't11_arms_number_a34_4_count', 't11_arms_number_a34_4_weight', 't11_arms_number_a34_4_fraction', 't11_arms_number_a34_4_weighted_fraction', 't11_arms_number_a34_4_debiased', 't11_arms_number_a34_4_flag', 't11_arms_number_a36_more_than_4_count', 't11_arms_number_a36_more_than_4_weight', 't11_arms_number_a36_more_than_4_fraction', 't11_arms_number_a36_more_than_4_weighted_fraction', 't11_arms_number_a36_more_than_4_debiased', 't11_arms_number_a36_more_than_4_flag', 't11_arms_number_a37_cant_tell_count', 't11_arms_number_a37_cant_tell_weight', 't11_arms_number_a37_cant_tell_fraction', 't11_arms_number_a37_cant_tell_weighted_fraction', 't11_arms_number_a37_cant_tell_debiased', 't11_arms_number_a37_cant_tell_flag']\n",
      "format:\n",
      "    ['K', 'E', 'E', '44A', '44A', '80A', '8A', 'I', 'I', 'I', 'E', 'E', 'E', 'D', 'K', 'I', 'E', 'E', 'E', 'D', 'K', 'I', 'E', 'E', 'E', 'D', 'K', 'I', 'E', 'E', 'E', 'D', 'K', 'I', 'E', 'E', 'E', 'D', 'K', 'I', 'E', 'E', 'E', 'D', 'K', 'I', 'E', 'E', 'E', 'D', 'K', 'I', 'E', 'E', 'E', 'D', 'K', 'I', 'E', 'E', 'E', 'D', 'K', 'I', 'E', 'E', 'E', 'D', 'K', 'I', 'E', 'E', 'E', 'D', 'K', 'I', 'E', 'E', 'E', 'D', 'K', 'I', 'E', 'E', 'E', 'D', 'K', 'I', 'E', 'E', 'E', 'D', 'K', 'I', 'E', 'E', 'E', 'D', 'K', 'I', 'E', 'E', 'E', 'D', 'K', 'I', 'E', 'E', 'E', 'D', 'K', 'I', 'E', 'E', 'E', 'D', 'K', 'I', 'E', 'E', 'E', 'D', 'K', 'I', 'E', 'E', 'E', 'D', 'K', 'I', 'E', 'E', 'E', 'D', 'K', 'I', 'E', 'E', 'E', 'D', 'K', 'I', 'E', 'E', 'E', 'D', 'K', 'I', 'E', 'E', 'E', 'D', 'K', 'I', 'E', 'E', 'E', 'D', 'K', 'I', 'E', 'E', 'E', 'D', 'K', 'I', 'E', 'E', 'E', 'D', 'K', 'I', 'E', 'E', 'E', 'D', 'K', 'I', 'E', 'E', 'E', 'D', 'K', 'I', 'E', 'E', 'E', 'D', 'K', 'I', 'E', 'E', 'E', 'D', 'K', 'I', 'E', 'E', 'E', 'D', 'K', 'I', 'E', 'E', 'E', 'D', 'K', 'I', 'E', 'E', 'E', 'D', 'K', 'I', 'E', 'E', 'E', 'D', 'K', 'I', 'E', 'E', 'E', 'D', 'K', 'I', 'E', 'E', 'E', 'D', 'K']\n",
      "unit:\n",
      "    ['', '', '', '', '', '', '', '', '', '', '', '', '', '', '', '', '', '', '', '', '', '', '', '', '', '', '', '', '', '', '', '', '', '', '', '', '', '', '', '', '', '', '', '', '', '', '', '', '', '', '', '', '', '', '', '', '', '', '', '', '', '', '', '', '', '', '', '', '', '', '', '', '', '', '', '', '', '', '', '', '', '', '', '', '', '', '', '', '', '', '', '', '', '', '', '', '', '', '', '', '', '', '', '', '', '', '', '', '', '', '', '', '', '', '', '', '', '', '', '', '', '', '', '', '', '', '', '', '', '', '', '', '', '', '', '', '', '', '', '', '', '', '', '', '', '', '', '', '', '', '', '', '', '', '', '', '', '', '', '', '', '', '', '', '', '', '', '', '', '', '', '', '', '', '', '', '', '', '', '', '', '', '', '', '', '', '', '', '', '', '', '', '', '', '', '', '', '', '', '', '', '', '', '', '', '', '', '', '', '', '', '', '', '', '', '', '', '', '', '', '', '', '', '', '', '', '', '', '', '', '']\n",
      "null:\n",
      "    [999999, '', '', '', '', '', '', 16959, 16959, 16959, '', '', '', '', 999999, 16959, '', '', '', '', 999999, 16959, '', '', '', '', 999999, 16959, '', '', '', '', 999999, 16959, '', '', '', '', 999999, 16959, '', '', '', '', 999999, 16959, '', '', '', '', 999999, 16959, '', '', '', '', 999999, 16959, '', '', '', '', 999999, 16959, '', '', '', '', 999999, 16959, '', '', '', '', 999999, 16959, '', '', '', '', 999999, 16959, '', '', '', '', 999999, 16959, '', '', '', '', 999999, 16959, '', '', '', '', 999999, 16959, '', '', '', '', 999999, 16959, '', '', '', '', 999999, 16959, '', '', '', '', 999999, 16959, '', '', '', '', 999999, 16959, '', '', '', '', 999999, 16959, '', '', '', '', 999999, 16959, '', '', '', '', 999999, 16959, '', '', '', '', 999999, 16959, '', '', '', '', 999999, 16959, '', '', '', '', 999999, 16959, '', '', '', '', 999999, 16959, '', '', '', '', 999999, 16959, '', '', '', '', 999999, 16959, '', '', '', '', 999999, 16959, '', '', '', '', 999999, 16959, '', '', '', '', 999999, 16959, '', '', '', '', 999999, 16959, '', '', '', '', 999999, 16959, '', '', '', '', 999999, 16959, '', '', '', '', 999999, 16959, '', '', '', '', 999999, 16959, '', '', '', '', 999999]\n",
      "bscale:\n",
      "    ['', '', '', '', '', '', '', '', '', '', '', '', '', '', '', '', '', '', '', '', '', '', '', '', '', '', '', '', '', '', '', '', '', '', '', '', '', '', '', '', '', '', '', '', '', '', '', '', '', '', '', '', '', '', '', '', '', '', '', '', '', '', '', '', '', '', '', '', '', '', '', '', '', '', '', '', '', '', '', '', '', '', '', '', '', '', '', '', '', '', '', '', '', '', '', '', '', '', '', '', '', '', '', '', '', '', '', '', '', '', '', '', '', '', '', '', '', '', '', '', '', '', '', '', '', '', '', '', '', '', '', '', '', '', '', '', '', '', '', '', '', '', '', '', '', '', '', '', '', '', '', '', '', '', '', '', '', '', '', '', '', '', '', '', '', '', '', '', '', '', '', '', '', '', '', '', '', '', '', '', '', '', '', '', '', '', '', '', '', '', '', '', '', '', '', '', '', '', '', '', '', '', '', '', '', '', '', '', '', '', '', '', '', '', '', '', '', '', '', '', '', '', '', '', '', '', '', '', '', '', '']\n",
      "bzero:\n",
      "    ['', '', '', '', '', '', '', '', '', '', '', '', '', '', '', '', '', '', '', '', '', '', '', '', '', '', '', '', '', '', '', '', '', '', '', '', '', '', '', '', '', '', '', '', '', '', '', '', '', '', '', '', '', '', '', '', '', '', '', '', '', '', '', '', '', '', '', '', '', '', '', '', '', '', '', '', '', '', '', '', '', '', '', '', '', '', '', '', '', '', '', '', '', '', '', '', '', '', '', '', '', '', '', '', '', '', '', '', '', '', '', '', '', '', '', '', '', '', '', '', '', '', '', '', '', '', '', '', '', '', '', '', '', '', '', '', '', '', '', '', '', '', '', '', '', '', '', '', '', '', '', '', '', '', '', '', '', '', '', '', '', '', '', '', '', '', '', '', '', '', '', '', '', '', '', '', '', '', '', '', '', '', '', '', '', '', '', '', '', '', '', '', '', '', '', '', '', '', '', '', '', '', '', '', '', '', '', '', '', '', '', '', '', '', '', '', '', '', '', '', '', '', '', '', '', '', '', '', '', '', '']\n",
      "disp:\n",
      "    ['', '', '', '', '', '', '', '', '', '', '', '', '', '', '', '', '', '', '', '', '', '', '', '', '', '', '', '', '', '', '', '', '', '', '', '', '', '', '', '', '', '', '', '', '', '', '', '', '', '', '', '', '', '', '', '', '', '', '', '', '', '', '', '', '', '', '', '', '', '', '', '', '', '', '', '', '', '', '', '', '', '', '', '', '', '', '', '', '', '', '', '', '', '', '', '', '', '', '', '', '', '', '', '', '', '', '', '', '', '', '', '', '', '', '', '', '', '', '', '', '', '', '', '', '', '', '', '', '', '', '', '', '', '', '', '', '', '', '', '', '', '', '', '', '', '', '', '', '', '', '', '', '', '', '', '', '', '', '', '', '', '', '', '', '', '', '', '', '', '', '', '', '', '', '', '', '', '', '', '', '', '', '', '', '', '', '', '', '', '', '', '', '', '', '', '', '', '', '', '', '', '', '', '', '', '', '', '', '', '', '', '', '', '', '', '', '', '', '', '', '', '', '', '', '', '', '', '', '', '', '']\n",
      "start:\n",
      "    ['', '', '', '', '', '', '', '', '', '', '', '', '', '', '', '', '', '', '', '', '', '', '', '', '', '', '', '', '', '', '', '', '', '', '', '', '', '', '', '', '', '', '', '', '', '', '', '', '', '', '', '', '', '', '', '', '', '', '', '', '', '', '', '', '', '', '', '', '', '', '', '', '', '', '', '', '', '', '', '', '', '', '', '', '', '', '', '', '', '', '', '', '', '', '', '', '', '', '', '', '', '', '', '', '', '', '', '', '', '', '', '', '', '', '', '', '', '', '', '', '', '', '', '', '', '', '', '', '', '', '', '', '', '', '', '', '', '', '', '', '', '', '', '', '', '', '', '', '', '', '', '', '', '', '', '', '', '', '', '', '', '', '', '', '', '', '', '', '', '', '', '', '', '', '', '', '', '', '', '', '', '', '', '', '', '', '', '', '', '', '', '', '', '', '', '', '', '', '', '', '', '', '', '', '', '', '', '', '', '', '', '', '', '', '', '', '', '', '', '', '', '', '', '', '', '', '', '', '', '', '']\n",
      "dim:\n",
      "    ['', '', '', '', '', '', '', '', '', '', '', '', '', '', '', '', '', '', '', '', '', '', '', '', '', '', '', '', '', '', '', '', '', '', '', '', '', '', '', '', '', '', '', '', '', '', '', '', '', '', '', '', '', '', '', '', '', '', '', '', '', '', '', '', '', '', '', '', '', '', '', '', '', '', '', '', '', '', '', '', '', '', '', '', '', '', '', '', '', '', '', '', '', '', '', '', '', '', '', '', '', '', '', '', '', '', '', '', '', '', '', '', '', '', '', '', '', '', '', '', '', '', '', '', '', '', '', '', '', '', '', '', '', '', '', '', '', '', '', '', '', '', '', '', '', '', '', '', '', '', '', '', '', '', '', '', '', '', '', '', '', '', '', '', '', '', '', '', '', '', '', '', '', '', '', '', '', '', '', '', '', '', '', '', '', '', '', '', '', '', '', '', '', '', '', '', '', '', '', '', '', '', '', '', '', '', '', '', '', '', '', '', '', '', '', '', '', '', '', '', '', '', '', '', '', '', '', '', '', '', '']\n"
     ]
    }
   ],
   "source": [
    "hdulist = fits.open('../gz2_hart16.fits')\n",
    "tbdata = hdulist[1].data\n",
    "cols = hdulist[1].columns\n",
    "cols.info()"
   ]
  },
  {
   "cell_type": "code",
   "execution_count": null,
   "metadata": {
    "collapsed": true
   },
   "outputs": [],
   "source": []
  }
 ],
 "metadata": {
  "kernelspec": {
   "display_name": "Python 2",
   "language": "python",
   "name": "python2"
  },
  "language_info": {
   "codemirror_mode": {
    "name": "ipython",
    "version": 2
   },
   "file_extension": ".py",
   "mimetype": "text/x-python",
   "name": "python",
   "nbconvert_exporter": "python",
   "pygments_lexer": "ipython2",
   "version": "2.7.13"
  }
 },
 "nbformat": 4,
 "nbformat_minor": 2
}
