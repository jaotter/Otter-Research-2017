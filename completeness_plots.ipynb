{
 "cells": [
  {
   "cell_type": "code",
   "execution_count": 11,
   "metadata": {},
   "outputs": [],
   "source": [
    "from __future__ import division\n",
    "import matplotlib.pyplot as plt\n",
    "from astropy.io import fits\n",
    "import numpy as np\n",
    "from astropy import units as u\n",
    "from astropy.table import Table, hstack, vstack\n",
    "from astropy.cosmology import FlatLambdaCDM\n",
    "from scipy.stats import ks_2samp\n",
    "\n",
    "import math\n",
    "import mpl_style\n",
    "\n",
    "%matplotlib inline\n",
    "\n",
    "H0 = 70.\n",
    "cosmo = FlatLambdaCDM(H0, Om0=0.3)\n",
    "h = H0/100"
   ]
  },
  {
   "cell_type": "code",
   "execution_count": 2,
   "metadata": {},
   "outputs": [],
   "source": [
    "galaxy_table = Table(fits.getdata('galaxy_table_update_cmplt.fits'))\n",
    "group_table = Table(fits.getdata('group_table_update_cmplt.fits'))"
   ]
  },
  {
   "cell_type": "code",
   "execution_count": 3,
   "metadata": {},
   "outputs": [
    {
     "data": {
      "text/plain": [
       "<Table length=12352>\n",
       "        name          dtype \n",
       "-------------------- -------\n",
       "          galaxy_num   int64\n",
       "           group_num   int64\n",
       "         NYU-VAGC_ID   int64\n",
       "                   z float32\n",
       "              mstell float32\n",
       "                ssfr float32\n",
       "           pfeatures float32\n",
       "             centsat   int64\n",
       "           M_r-5logh float64\n",
       "               color float64\n",
       "       halo_mass_lum float64\n",
       "    halo_mass_mstell float64\n",
       "           redorblue    str4\n",
       "      passiveorSFing    str7\n",
       "        completeness float64\n",
       "               n_gal   int64\n",
       "           cent_ssfr float32\n",
       "        cent_redblue    str4\n",
       "       sfing_central    str7\n",
       "          cent_pfeat float32\n",
       "           cent_mass float32\n",
       "         sat_sf_frac float64\n",
       "       sat_blue_frac float64\n",
       "     sat_spiral_frac float64\n",
       "     sat_smooth_frac float64\n",
       "sat_spiral_half_frac float64\n",
       "    median_sat_pfeat float32"
      ]
     },
     "execution_count": 3,
     "metadata": {},
     "output_type": "execute_result"
    }
   ],
   "source": [
    "galaxy_table.info"
   ]
  },
  {
   "cell_type": "code",
   "execution_count": 3,
   "metadata": {},
   "outputs": [],
   "source": [
    "#cell initializing different indices for use later\n",
    "#group_table indices\n",
    "pair_ind = np.where(group_table['n_gal'] == 2)[0]\n",
    "group_ind = np.where(group_table['n_gal'] > 2)[0]\n",
    "\n",
    "halo_mass_val_ind = np.where(group_table['halo_mass_lum'] > 2)[0]\n",
    "cent_mass_val_ind = np.where(group_table['cent_mstell'] > 0)[0]\n",
    "\n",
    "\n",
    "high_sat_sf_ind = np.where(group_table['sat_sf_frac'] > 0.5)\n",
    "low_sat_sf_ind = np.where(group_table['sat_sf_frac'] < 0.5)\n",
    "\n",
    "spiral_sat_ind = np.where(group_table['sat_spiral_frac'] > 0.5)[0]\n",
    "smooth_sat_ind = np.where(group_table['sat_smooth_frac'] > 0.5)[0]\n",
    "int_sat_ind = np.intersect1d(np.where(group_table['sat_spiral_frac'] <= 0.5)[0], np.where(group_table['sat_smooth_frac'] <= 0.5)[0])\n",
    "\n",
    "spiral_half_sat_ind = np.where(group_table['sat_spiral_half_frac'] > 0.5)[0]\n",
    "smooth_half_sat_ind = np.where(group_table['sat_spiral_half_frac'] < 0.5)[0]\n",
    "\n",
    "high_mass_halo_ind = np.where(group_table['halo_mass_lum'] >= 13 - np.log10(h))[0]\n",
    "low_mass_halo_ind = np.where(group_table['halo_mass_lum'] < 13 - np.log10(h))[0]\n",
    "low_mass_halo_ind = np.intersect1d(low_mass_halo_ind, np.where(group_table['halo_mass_lum'] > 2)[0])\n",
    "\n",
    "high_mass_cent_ind = np.where(group_table['cent_mstell'] >= 10.5)[0]\n",
    "low_mass_cent_ind = np.where(group_table['cent_mstell'] < 10.5)[0]\n",
    "\n",
    "sf_cent_ind = np.where(group_table['sfing_central'] == 'SFing')[0]\n",
    "passive_cent_ind = np.where(group_table['sfing_central'] == 'passive')[0]\n",
    "\n",
    "red_cent_ind = np.where(group_table['cent_redblue'] == 'red')[0]\n",
    "blue_cent_ind = np.where(group_table['cent_redblue'] == 'blue')[0]\n",
    "\n",
    "spiral_cent_ind = np.where(group_table['cent_pfeat'] >= 0.8)[0]\n",
    "smooth_cent_ind = np.where(group_table['cent_pfeat'] <= 0.2)[0]\n",
    "int_cent_ind = np.intersect1d(np.where(group_table['cent_pfeat'] < 0.8)[0],np.where(group_table['cent_pfeat'] > 0.2)[0])\n",
    "    \n",
    "spiral_half_cent_ind = np.where(group_table['cent_pfeat'] >= 0.5)[0]\n",
    "smooth_half_cent_ind = np.where(group_table['cent_pfeat'] < 0.5)[0]\n",
    "    \n",
    "#central morphology/color of groups\n",
    "redelliptical_cent_ind = np.intersect1d(red_cent_ind, smooth_cent_ind) \n",
    "blueelliptical_cent_ind = np.intersect1d(blue_cent_ind, smooth_cent_ind)\n",
    "redspiral_cent_ind = np.intersect1d(red_cent_ind, spiral_cent_ind)\n",
    "bluespiral_cent_ind = np.intersect1d(blue_cent_ind, spiral_cent_ind)\n",
    "\n",
    "#galaxy_table indices\n",
    "cent_ind = np.where(galaxy_table['centsat'] == 1)[0]\n",
    "sat_ind = np.where(galaxy_table['centsat'] == 2)[0]\n",
    "\n",
    "mass_val_ind_gal = np.where(galaxy_table['mstell'] > 0)[0] #remove galaxies without measured mass\n",
    "halo_mass_val_ind_gal = np.where(galaxy_table['halo_mass_lum'] > 2)[0]\n",
    "\n",
    "pair_ind_gal = np.where(galaxy_table['n_gal'] == 2)[0]\n",
    "group_ind_gal = np.where(galaxy_table['n_gal'] > 2)[0]\n",
    "\n",
    "spiralgal_ind_gal = np.where(galaxy_table['pfeatures'] >= 0.8)[0] #these are the properties of each galaxy\n",
    "intgal_ind_gal = np.intersect1d(np.where(galaxy_table['pfeatures'] < 0.8)[0],np.where(galaxy_table['pfeatures'] > 0.2)[0])\n",
    "smoothgal_ind_gal = np.where(galaxy_table['pfeatures'] <= 0.2)[0]\n",
    "\n",
    "passivegal_ind_gal = np.where(galaxy_table['passiveorSFing'] == 'passive')[0]\n",
    "SFinggal_ind_gal = np.where(galaxy_table['passiveorSFing'] == 'SFing')[0]\n",
    "\n",
    "passivesat_ind_gal = np.where(galaxy_table['sat_sf_frac'] < 0.5)[0]\n",
    "SFingsat_ind_gal = np.where(galaxy_table['sat_sf_frac'] > 0.5)[0]\n",
    "\n",
    "smoothsat_ind_gal = np.where(galaxy_table['sat_smooth_frac'] > 0.5)[0]\n",
    "spiralsat_ind_gal = np.where(galaxy_table['sat_spiral_frac'] > 0.5)[0]\n",
    "intsat_ind_gal = np.intersect1d(np.where(galaxy_table['sat_spiral_frac'] <= 0.5)[0], np.where(galaxy_table['sat_smooth_frac'] <= 0.5)[0])\n",
    "\n",
    "\n",
    "spiral_cent_ind_gal = np.where(galaxy_table['cent_pfeat'] >= 0.8)[0] #these are central properties\n",
    "smooth_cent_ind_gal = np.where(galaxy_table['cent_pfeat'] <= 0.2)[0]\n",
    "\n",
    "redgal_ind_gal = np.where(galaxy_table['redorblue'] == 'red')[0]\n",
    "bluegal_ind_gal = np.where(galaxy_table['redorblue'] == 'blue')[0]\n",
    "\n",
    "#galaxies with SF and color properties\n",
    "redactive_gal_ind_gal = np.intersect1d(SFinggal_ind_gal, redgal_ind_gal)\n",
    "blueactive_gal_ind_gal = np.intersect1d(SFinggal_ind_gal, bluegal_ind_gal)\n",
    "redpassive_gal_ind_gal = np.intersect1d(passivegal_ind_gal, redgal_ind_gal)\n",
    "bluepassive_gal_ind_gal = np.intersect1d(passivegal_ind_gal, bluegal_ind_gal)\n",
    "\n",
    "red_cent_ind_gal = np.where(galaxy_table['cent_redblue'] == 'red')[0]\n",
    "blue_cent_ind_gal = np.where(galaxy_table['cent_redblue'] == 'blue')[0]\n",
    "                             \n",
    "#central morphology/color\n",
    "redelliptical_cent_ind_gal = np.intersect1d(red_cent_ind_gal, smooth_cent_ind_gal) \n",
    "blueelliptical_cent_ind_gal = np.intersect1d(blue_cent_ind_gal, smooth_cent_ind_gal)\n",
    "redspiral_cent_ind_gal = np.intersect1d(red_cent_ind_gal, spiral_cent_ind_gal)\n",
    "bluespiral_cent_ind_gal = np.intersect1d(blue_cent_ind_gal, spiral_cent_ind_gal)\n",
    "\n",
    "#all galaxies morphology/color\n",
    "redelliptical_ind_gal = np.intersect1d(redgal_ind_gal, smoothgal_ind_gal)\n",
    "blueelliptical_ind_gal = np.intersect1d(bluegal_ind_gal, smoothgal_ind_gal)\n",
    "redspiral_ind_gal = np.intersect1d(redgal_ind_gal, spiralgal_ind_gal)\n",
    "bluespiral_ind_gal = np.intersect1d(bluegal_ind_gal, spiralgal_ind_gal)\n",
    "\n",
    "sf_cent_ind_gal = np.where(galaxy_table['sfing_central'] == 'SFing')[0]\n",
    "passive_cent_ind_gal = np.where(galaxy_table['sfing_central'] == 'passive')[0]\n",
    "\n",
    "high_mass_halo_ind_gal = np.where(galaxy_table['halo_mass_lum'] >= 13 - np.log10(h))[0]\n",
    "low_mass_halo_ind_gal = np.where(galaxy_table['halo_mass_lum'] < 13 - np.log10(h))[0]\n",
    "\n",
    "high_mass_cent_ind_gal = np.where(galaxy_table['cent_mass'] >= 10.5)[0]\n",
    "low_mass_cent_ind_gal = np.where(galaxy_table['cent_mass'] < 10.5)[0]"
   ]
  },
  {
   "cell_type": "code",
   "execution_count": 4,
   "metadata": {},
   "outputs": [
    {
     "name": "stdout",
     "output_type": "stream",
     "text": [
      "1266\n",
      "3269\n",
      "2028\n",
      "3305\n"
     ]
    }
   ],
   "source": [
    "grp_hmass_ind_gal = np.intersect1d(halo_mass_val_ind_gal, group_ind_gal)\n",
    "#print(len(grp_hmass_ind_gal))\n",
    "#print(len(group_ind_gal))\n",
    "\n",
    "grp_hmass_ind = np.intersect1d(halo_mass_val_ind, group_ind)\n",
    "print(len(grp_hmass_ind))\n",
    "print(len(halo_mass_val_ind))\n",
    "print(len(pair_ind))\n",
    "print(len(group_table))"
   ]
  },
  {
   "cell_type": "code",
   "execution_count": 6,
   "metadata": {},
   "outputs": [
    {
     "data": {
      "text/plain": [
       "Text(0,0.5,'Number')"
      ]
     },
     "execution_count": 6,
     "metadata": {},
     "output_type": "execute_result"
    },
    {
     "data": {
      "image/png": "[encoded data removed]",
      "text/plain": [
       "<Figure size 720x576 with 1 Axes>"
      ]
     },
     "metadata": {
      "needs_background": "light"
     },
     "output_type": "display_data"
    }
   ],
   "source": [
    "#histogram of completeness in region for all galaxies in sample\n",
    "all_completeness = galaxy_table['completeness'][grp_hmass_ind_gal]\n",
    "\n",
    "f = plt.figure(figsize=(10,8))\n",
    "\n",
    "hist, bins = np.histogram(all_completeness, density=False)\n",
    "\n",
    "widths = bins[1:] - bins[:-1]\n",
    "x = bins[:-1] + widths/2\n",
    "\n",
    "plt.bar(x, hist, widths, edgecolor='k')\n",
    "\n",
    "plt.xlabel('Completeness in region for all galaxies in sample')\n",
    "plt.ylabel('Number')"
   ]
  },
  {
   "cell_type": "code",
   "execution_count": 6,
   "metadata": {},
   "outputs": [],
   "source": [
    "group_comp = group_table['member_completeness']\n",
    "\n",
    "memb_comp = []\n",
    "comp_mean = []\n",
    "comp_range = []\n",
    "\n",
    "for st in group_comp:\n",
    "    grp_comp = [float(x) for x in st[1:-1].split(',')]\n",
    "    memb_comp.append(grp_comp)\n",
    "    comp_mean.append(np.mean(grp_comp))\n",
    "    comp_range.append(np.max(grp_comp) - np.min(grp_comp))\n"
   ]
  },
  {
   "cell_type": "code",
   "execution_count": 12,
   "metadata": {},
   "outputs": [
    {
     "data": {
      "text/plain": [
       "Text(0,0.5,'Number')"
      ]
     },
     "execution_count": 12,
     "metadata": {},
     "output_type": "execute_result"
    },
    {
     "data": {
      "image/png": "[encoded data removed]",
      "text/plain": [
       "<Figure size 720x576 with 1 Axes>"
      ]
     },
     "metadata": {
      "needs_background": "light"
     },
     "output_type": "display_data"
    }
   ],
   "source": [
    "f = plt.figure(figsize=(10,8))\n",
    "\n",
    "hist_all, bins = np.histogram(comp_mean, density=False)\n",
    "widths_all = bins[1:] - bins[:-1]\n",
    "x_all = bins[:-1] + widths_all/2\n",
    "\n",
    "plt.bar(x_all, hist_all, widths_all, edgecolor='k', alpha=1)\n",
    "\n",
    "plt.xlabel('Mean completeness in region for all groups')\n",
    "plt.ylabel('Number')"
   ]
  },
  {
   "cell_type": "code",
   "execution_count": 22,
   "metadata": {},
   "outputs": [
    {
     "data": {
      "image/png": "[encoded data removed]",
      "text/plain": [
       "<Figure size 720x576 with 1 Axes>"
      ]
     },
     "metadata": {
      "needs_background": "light"
     },
     "output_type": "display_data"
    }
   ],
   "source": [
    "#histogram of mean completeness in region for all groups in sample\n",
    "comp_mean = np.array(comp_mean)\n",
    "comp_mean_SF_feat = comp_mean[bluespiral_cent_ind]\n",
    "comp_mean_pas_feat = comp_mean[redspiral_cent_ind]\n",
    "comp_mean_SF_smooth = comp_mean[blueelliptical_cent_ind]\n",
    "comp_mean_pas_smooth = comp_mean[redelliptical_cent_ind]\n",
    "\n",
    "\n",
    "f = plt.figure(figsize=(10,8))\n",
    "\n",
    "hist_all, bins = np.histogram(comp_mean, density=True)\n",
    "widths_all = bins[1:] - bins[:-1]\n",
    "x_all = bins[:-1] + widths_all/2\n",
    "\n",
    "plt.bar(x_all, hist_all, widths_all, edgecolor='k', alpha=0.3, label='all groups')\n",
    "\n",
    "hist_SF_feat, bins = np.histogram(comp_mean_SF_feat, density=True)\n",
    "widths_SF_feat = bins[1:] - bins[:-1]\n",
    "x_SF_feat = bins[:-1] + widths_SF_feat/2\n",
    "\n",
    "plt.bar(x_SF_feat, hist_SF_feat, widths_SF_feat, edgecolor='k', alpha=0.3, label='Star-forming featured central')\n",
    "\n",
    "hist_SF_smooth, bins = np.histogram(comp_mean_SF_smooth, density=True)\n",
    "widths_SF_smooth = bins[1:] - bins[:-1]\n",
    "x_SF_smooth = bins[:-1] + widths_SF_smooth/2\n",
    "\n",
    "plt.bar(x_SF_smooth, hist_SF_smooth, widths_SF_smooth, edgecolor='k', alpha=0.3, label='Star-forming smooth central')\n",
    "\n",
    "hist_pas_smooth, bins = np.histogram(comp_mean_pas_smooth, density=True)\n",
    "widths_pas_smooth = bins[1:] - bins[:-1]\n",
    "x_pas_smooth = bins[:-1] + widths_pas_smooth/2\n",
    "\n",
    "plt.bar(x_pas_smooth, hist_pas_smooth, widths_pas_smooth, edgecolor='k', alpha=0.3, label='Passive smooth central')\n",
    "\n",
    "hist_pas_smooth, bins = np.histogram(comp_mean_pas_smooth, density=True)\n",
    "widths_pas_smooth = bins[1:] - bins[:-1]\n",
    "x_pas_smooth = bins[:-1] + widths_pas_smooth/2\n",
    "\n",
    "plt.bar(x_pas_smooth, hist_pas_smooth, widths_pas_smooth, edgecolor='k', alpha=0.3, label='Passive smooth central')\n",
    "\n",
    "\n",
    "\n",
    "plt.legend()\n",
    "plt.xlabel('Mean completeness in region for groups')\n",
    "plt.ylabel('Number')\n",
    "\n",
    "plt.show()"
   ]
  },
  {
   "cell_type": "code",
   "execution_count": 21,
   "metadata": {},
   "outputs": [
    {
     "name": "stdout",
     "output_type": "stream",
     "text": [
      "SFing and featured central and SFing and smooth central: KS statistic: 0.115013, p value: 0.101069\n",
      "SFing and featured central and passive and featured central: KS statistic: 0.094532, p value: 0.133403\n",
      "SFing and featured central and passive and smooth central: KS statistic: 0.051581, p value: 0.165182\n",
      "SFing and smooth central and passive and featured central: KS statistic: 0.047377, p value: 0.993996\n",
      "SFing and smooth central and passive and smooth central: KS statistic: 0.085866, p value: 0.325857\n",
      "passive and featured central and passive and smooth central: KS statistic: 0.058740, p value: 0.600371\n"
     ]
    }
   ],
   "source": [
    "Dval, pval = ks_2samp(comp_mean_SF_feat, comp_mean_SF_smooth) \n",
    "print('SFing and featured central and SFing and smooth central: KS statistic: %f, p value: %f' % (Dval, pval))\n",
    "\n",
    "Dval, pval = ks_2samp(comp_mean_SF_feat, comp_mean_pas_feat) \n",
    "print('SFing and featured central and passive and featured central: KS statistic: %f, p value: %f' % (Dval, pval))\n",
    "\n",
    "Dval, pval = ks_2samp(comp_mean_SF_feat, comp_mean_pas_smooth) \n",
    "print('SFing and featured central and passive and smooth central: KS statistic: %f, p value: %f' % (Dval, pval))\n",
    "\n",
    "\n",
    "Dval, pval = ks_2samp(comp_mean_SF_smooth, comp_mean_pas_feat) \n",
    "print('SFing and smooth central and passive and featured central: KS statistic: %f, p value: %f' % (Dval, pval))\n",
    "\n",
    "Dval, pval = ks_2samp(comp_mean_SF_smooth, comp_mean_pas_smooth) \n",
    "print('SFing and smooth central and passive and smooth central: KS statistic: %f, p value: %f' % (Dval, pval))\n",
    "\n",
    "\n",
    "Dval, pval = ks_2samp(comp_mean_pas_feat, comp_mean_pas_smooth) \n",
    "print('passive and featured central and passive and smooth central: KS statistic: %f, p value: %f' % (Dval, pval))"
   ]
  },
  {
   "cell_type": "code",
   "execution_count": 10,
   "metadata": {},
   "outputs": [
    {
     "data": {
      "text/plain": [
       "Text(0,0.5,'Number')"
      ]
     },
     "execution_count": 10,
     "metadata": {},
     "output_type": "execute_result"
    },
    {
     "data": {
      "image/png": "[encoded data removed]",
      "text/plain": [
       "<Figure size 720x576 with 1 Axes>"
      ]
     },
     "metadata": {
      "needs_background": "light"
     },
     "output_type": "display_data"
    }
   ],
   "source": [
    "#histogram of mean completeness in region for all groups in sample\n",
    "#this is checking the \"in region\" aspect - galaxies in the same groups are presumably in the same \"region\"\n",
    "#so they should have similar completeness values\n",
    "\n",
    "f = plt.figure(figsize=(10,8))\n",
    "\n",
    "hist, bins = np.histogram(comp_range, density=False)\n",
    "\n",
    "widths = bins[1:] - bins[:-1]\n",
    "x = bins[:-1] + widths/2\n",
    "\n",
    "plt.bar(x, hist, widths, edgecolor='k')\n",
    "\n",
    "plt.xlabel('Completeness range for all galaxies in all groups')\n",
    "plt.ylabel('Number')"
   ]
  },
  {
   "cell_type": "code",
   "execution_count": null,
   "metadata": {},
   "outputs": [],
   "source": []
  }
 ],
 "metadata": {
  "kernelspec": {
   "display_name": "Python 2",
   "language": "python",
   "name": "python2"
  },
  "language_info": {
   "codemirror_mode": {
    "name": "ipython",
    "version": 2
   },
   "file_extension": ".py",
   "mimetype": "text/x-python",
   "name": "python",
   "nbconvert_exporter": "python",
   "pygments_lexer": "ipython2",
   "version": "2.7.15"
  }
 },
 "nbformat": 4,
 "nbformat_minor": 2
}
