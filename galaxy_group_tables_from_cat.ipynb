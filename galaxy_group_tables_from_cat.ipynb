{
 "cells": [
  {
   "cell_type": "code",
   "execution_count": 33,
   "metadata": {},
   "outputs": [],
   "source": [
    "%matplotlib inline\n",
    "from __future__ import division\n",
    "import matplotlib.pyplot as plt\n",
    "from astropy.io import fits\n",
    "import numpy as np\n",
    "from astropy.cosmology import FlatLambdaCDM\n",
    "from astropy import units as u\n",
    "from astropy.table import Table, hstack, vstack, join\n",
    "from scipy.stats import ks_2samp, beta\n",
    "from functools import reduce\n",
    "\n",
    "import math\n",
    "import mpl_style\n",
    "import csv\n",
    "import hex_scatter as hs\n",
    "\n",
    "H0 = 73.\n",
    "cosmo = FlatLambdaCDM(H0, Om0=0.3)\n",
    "h = H0/100"
   ]
  },
  {
   "cell_type": "code",
   "execution_count": 2,
   "metadata": {},
   "outputs": [],
   "source": [
    "alldata = Table(fits.open('../JHU_mstell_ssfr_Yang_gzoo.fits')[1].data)\n",
    "alldata['col10'].name = 'color' #^{0.1}(g-r), K-E corrected to z=0.1, petro\n",
    "alldata['col9'].name = 'M_r-5logh' #^{0.1}(M_r) - 5\\log h, K-E corrected to z=0.1, petro\n",
    "alldata['col4_2'].name = 'centsat' #if BRIGHTEST galaxy in group, is 1, otherwise 2\n",
    "alldata['t01_smooth_or_features_a02_features_or_disk_weighted_fraction'].name = 'pfeatures'\n",
    "alldata['AVG_SSFR'].name = 'ssfr'\n",
    "alldata['Z'].name = 'z'\n",
    "alldata['Z_WARNING'].name = 'z_warn'\n",
    "alldata['AVG_MSTELL'].name = 'mstell'\n",
    "alldata['col3_2'].name = 'group_num'\n",
    "alldata['col1_2'].name = 'galaxy_num'\n",
    "alldata['col2_1'].name = 'NYU-VAGC_ID'\n",
    "\n",
    "hdulist2 = fits.open('../petroC_group.fits')\n",
    "groupdata = Table(hdulist2[1].data)\n",
    "groupdata['col1'].name = 'group_num'\n",
    "groupdata['col7'].name = 'halo_mass_lum'#Luminosity weighted halo mass estimate, units: log M_halo/ (M_{\\odot}/h)\n",
    "groupdata['col8'].name = 'halo_mass_mstell'#Mstellar weighted halo mass estimate, units: log M_halo/ (M_{\\odot}/h)\n",
    "hdulist2.close()"
   ]
  },
  {
   "cell_type": "code",
   "execution_count": 3,
   "metadata": {},
   "outputs": [
    {
     "name": "stdout",
     "output_type": "stream",
     "text": [
      "(-20.05490117819621, -19.37151547879849)\n"
     ]
    }
   ],
   "source": [
    "#Magnitude limit calculation\n",
    "z_lim = 0.06\n",
    "d = cosmo.luminosity_distance(z_lim).to(u.pc)\n",
    "m = 17\n",
    "M_limit = m - 5*math.log(d.value,10) + 5 \n",
    "adj_M_limit = M_limit - 5*math.log(h,10)\n",
    "print(M_limit, adj_M_limit)"
   ]
  },
  {
   "cell_type": "code",
   "execution_count": 4,
   "metadata": {},
   "outputs": [],
   "source": [
    "#turn alldata into galaxy table\n",
    "#cuts to make - magnitude, redshift\n",
    "#things to add - halo mass, red/blue, sfing/passive\n",
    "    #then go to group table \n",
    "    #also make group_list\n",
    "\n",
    "halo_mass_lum_gal = []\n",
    "halo_mass_mstell_gal = []\n",
    "redblue_gal = []\n",
    "pasSFing_gal = []\n",
    "\n",
    "group_list = [[67926]]\n",
    "\n",
    "for i in np.arange(len(alldata)):\n",
    "    group_ind = np.where(groupdata['group_num'] == alldata['group_num'][i])\n",
    "    \n",
    "    halo_mass_lum_gal.append(groupdata['halo_mass_lum'][group_ind[0]][0] - np.log10(h)) \n",
    "    halo_mass_mstell_gal.append(groupdata['halo_mass_mstell'][group_ind[0]][0] - np.log10(h))\n",
    "    \n",
    "    color_line = 0.7 - 0.032*(alldata['M_r-5logh'][i] + 16.5) #formula from Weinmann et al 2006, includes -5log(h)\n",
    "    active_line = -10 + 0.094*(alldata['M_r-5logh'][i] + 15)\n",
    "    \n",
    "    if alldata['ssfr'][i] <= active_line:\n",
    "        pasSFing_gal.append('passive')\n",
    "    elif alldata['ssfr'][i] > active_line:\n",
    "        pasSFing_gal.append('SFing')\n",
    "    \n",
    "    if alldata['color'][i] > color_line:\n",
    "        redblue_gal.append('red')\n",
    "    elif alldata['color'][i] <= color_line:\n",
    "        redblue_gal.append('blue')\n",
    "            \n",
    "alldata['halo_mass_lum'] = halo_mass_lum_gal\n",
    "alldata['halo_mass_mstell'] = halo_mass_mstell_gal\n",
    "alldata['redorblue'] = redblue_gal\n",
    "alldata['passiveorSFing'] = pasSFing_gal\n",
    "\n",
    "z_cut_ind = np.intersect1d(np.where(alldata['z'] > 0.01)[0], np.where(alldata['z'] < 0.06)[0])\n",
    "mag_cut_ind = np.where(alldata['M_r-5logh'] < adj_M_limit)\n",
    "cut_ind = np.intersect1d(z_cut_ind, mag_cut_ind)\n",
    "\n",
    "cutdata = alldata[cut_ind]\n",
    "galaxy_table = Table([cutdata['galaxy_num'], cutdata['group_num'], cutdata['NYU-VAGC_ID'], cutdata['z'], cutdata['mstell'], cutdata['ssfr'], cutdata['pfeatures'], cutdata['centsat'], cutdata['M_r-5logh'], cutdata['color'], cutdata['halo_mass_lum'], cutdata['halo_mass_mstell'], cutdata['redorblue'], cutdata['passiveorSFing']])"
   ]
  },
  {
   "cell_type": "code",
   "execution_count": 26,
   "metadata": {},
   "outputs": [
    {
     "data": {
      "text/plain": [
       "<Table length=42919>\n",
       "      name        dtype \n",
       "---------------- -------\n",
       "      galaxy_num   int64\n",
       "       group_num   int64\n",
       "     NYU-VAGC_ID   int64\n",
       "               z float32\n",
       "          mstell float32\n",
       "            ssfr float32\n",
       "       pfeatures float32\n",
       "         centsat   int64\n",
       "       M_r-5logh float64\n",
       "           color float64\n",
       "   halo_mass_lum float64\n",
       "halo_mass_mstell float64\n",
       "       redorblue    str4\n",
       "  passiveorSFing    str7"
      ]
     },
     "execution_count": 26,
     "metadata": {},
     "output_type": "execute_result"
    }
   ],
   "source": [
    "#galaxy_table = Table([cutdata['galaxy_num'], cutdata['group_num'], cutdata['NYU-VAGC_ID'], cutdata['z'], cutdata['mstell'], cutdata['ssfr'], cutdata['pfeatures'], cutdata['centsat'], cutdata['M_r-5logh'], cutdata['color'], cutdata['halo_mass_lum'], cutdata['halo_mass_mstell'], cutdata['redorblue'], cutdata['passiveorSFing']])\n",
    "#print(len(galaxy_table))\n",
    "#print(len(group_list))\n",
    "#print(len(set(galaxy_table['group_num'])))\n",
    "\n",
    "#print(np.where(galaxy_table['group_num'] == 2419))\n",
    "galaxy_table.info"
   ]
  },
  {
   "cell_type": "code",
   "execution_count": 6,
   "metadata": {},
   "outputs": [],
   "source": [
    "#creates group table\n",
    "group_nums = []\n",
    "cent_ssfr = []\n",
    "cent_sfing = []\n",
    "cent_pfeat = []\n",
    "cent_mr = []\n",
    "cent_mass = []\n",
    "halo_mass_lum_group = []\n",
    "halo_mass_mstell_group = []\n",
    "sf_frac = []\n",
    "spiral_frac = []\n",
    "smooth_frac = []\n",
    "blue_frac = []\n",
    "median_sat_pfeat = []\n",
    "spiral_half_frac = []\n",
    "gal_num = []\n",
    "\n",
    "cent_redblue = []\n",
    "\n",
    "for group in set(galaxy_table['group_num']): #loop thru groups\n",
    "    group_gals_ind = np.where(galaxy_table['group_num'] == group)[0] #indices of galaxies in a given group\n",
    "    \n",
    "    if len(group_gals_ind) > 1: #remove single galaxy groups\n",
    "        has_central = False \n",
    "        sat_pfeat = []\n",
    "        sat_spiral = 0\n",
    "        sat_smooth = 0\n",
    "        sat_sfing = 0\n",
    "        sat_spiral_half = 0\n",
    "        sat_blue = 0\n",
    "        sat_num = 0\n",
    "        \n",
    "        for gal_ind in group_gals_ind: #now loop through these galaxies\n",
    "            if galaxy_table['centsat'][gal_ind] == 1: #if its a central galaxy\n",
    "                cent_ssfr.append(galaxy_table['ssfr'][gal_ind])\n",
    "                cent_pfeat.append(galaxy_table['pfeatures'][gal_ind])\n",
    "                cent_mr.append(galaxy_table['M_r-5logh'][gal_ind])\n",
    "                halo_mass_lum_group.append(galaxy_table['halo_mass_lum'][gal_ind])\n",
    "                halo_mass_mstell_group.append(galaxy_table['halo_mass_mstell'][gal_ind])\n",
    "                cent_mass.append(galaxy_table['mstell'][gal_ind])\n",
    "                cent_redblue.append(galaxy_table['redorblue'][gal_ind])\n",
    "                cent_sfing.append(galaxy_table['passiveorSFing'][gal_ind])\n",
    "                has_central = True\n",
    "            else: #satellite galaxy\n",
    "                sat_pfeat.append(galaxy_table['pfeatures'])\n",
    "                sat_num += 1\n",
    "                if galaxy_table['pfeatures'][gal_ind] >= 0.8: #featured\n",
    "                    sat_spiral += 1\n",
    "                if galaxy_table['pfeatures'][gal_ind] <= 0.2: #smooth\n",
    "                    sat_smooth += 1\n",
    "                if galaxy_table['passiveorSFing'][gal_ind] == 'SFing': #star forming \n",
    "                    sat_sfing += 1\n",
    "                if galaxy_table['pfeatures'][gal_ind] >= 0.5: #featured by alt defn\n",
    "                    sat_spiral_half += 1\n",
    "                if galaxy_table['redorblue'][gal_ind] == 'blue':\n",
    "                    sat_blue += 1\n",
    "\n",
    "        if has_central == True: #only add group to table if it has a central\n",
    "            median_sat_pfeat.append(np.median(sat_pfeat))\n",
    "            sf_frac.append(sat_sfing/sat_num)\n",
    "            spiral_frac.append(sat_spiral/sat_num)\n",
    "            spiral_half_frac.append(sat_spiral_half/sat_num)\n",
    "            smooth_frac.append(sat_smooth/sat_num)\n",
    "            blue_frac.append(sat_blue/sat_num)\n",
    "            gal_num.append(sat_num+1)\n",
    "            group_nums.append(group)\n",
    "            \n",
    "group_table = Table([group_nums, gal_num, halo_mass_lum_group, halo_mass_mstell_group, cent_ssfr, cent_sfing, cent_redblue, cent_pfeat, cent_mass, sf_frac, blue_frac, spiral_frac, smooth_frac, spiral_half_frac, median_sat_pfeat],\n",
    "                    names=('group_num', 'n_gal', 'halo_mass_lum', 'halo_mass_mstell', 'cent_ssfr', 'sfing_central', 'cent_redblue', 'cent_pfeat', 'cent_mstell', 'sat_sf_frac', 'sat_blue_frac', 'sat_spiral_frac', 'sat_smooth_frac', 'sat_spiral_half_frac', 'median_sat_pfeat'))\n"
   ]
  },
  {
   "cell_type": "code",
   "execution_count": 37,
   "metadata": {},
   "outputs": [
    {
     "name": "stdout",
     "output_type": "stream",
     "text": [
      "42919\n"
     ]
    }
   ],
   "source": [
    "#add group data to individual galaxies in galaxy_data\n",
    "\n",
    "n_gal = []\n",
    "cent_ssfr = []\n",
    "SFing_central = []\n",
    "central_pfeat = []\n",
    "cent_mass = []\n",
    "sat_SF_frac = []\n",
    "sat_spiral_frac = []\n",
    "sat_smooth_frac = []\n",
    "sat_blue_frac = []\n",
    "cent_redblue = []\n",
    "median_sat_pfeat = []\n",
    "sat_spiral_half_frac = []\n",
    "galaxy_num_add = []\n",
    "\n",
    "\n",
    "single_gal_groups = 0\n",
    "\n",
    "for g in range(len(galaxy_table)): #loop thru galaxies\n",
    "    ind = np.where(group_table['group_num'] == galaxy_table['group_num'][g])[0]\n",
    "    if ind.size > 0: #if the group of galaxy g is in the group table\n",
    "        galaxy_num_add.append(galaxy_table['galaxy_num'].data[g])\n",
    "        \n",
    "        n_gal.append(group_table['n_gal'].data[ind][0])\n",
    "        cent_ssfr.append(group_table['cent_ssfr'].data[ind][0])\n",
    "        SFing_central.append(group_table['sfing_central'].data[ind][0])\n",
    "        central_pfeat.append(group_table['cent_pfeat'].data[ind][0])\n",
    "        cent_mass.append(group_table['cent_mstell'].data[ind][0])\n",
    "        sat_SF_frac.append(group_table['sat_sf_frac'].data[ind][0])\n",
    "        sat_spiral_frac.append(group_table['sat_spiral_frac'].data[ind][0])\n",
    "        sat_smooth_frac.append(group_table['sat_smooth_frac'].data[ind][0])\n",
    "        sat_blue_frac.append(group_table['sat_blue_frac'].data[ind][0])\n",
    "        cent_redblue.append(group_table['cent_redblue'].data[ind][0])\n",
    "        median_sat_pfeat.append(group_table['median_sat_pfeat'].data[ind][0])\n",
    "        sat_spiral_half_frac.append(group_table['sat_spiral_half_frac'].data[ind][0])\n",
    "    else:\n",
    "        single_gal_groups += 1\n",
    "group_data_add = Table([galaxy_num_add, n_gal, cent_ssfr, cent_redblue, SFing_central, central_pfeat, cent_mass, sat_SF_frac, sat_blue_frac, sat_spiral_frac, sat_smooth_frac, sat_spiral_half_frac, median_sat_pfeat],\n",
    "                                   names=('galaxy_num', 'n_gal', 'cent_ssfr', 'cent_redblue', 'sfing_central', 'cent_pfeat', 'cent_mass', 'sat_sf_frac', 'sat_blue_frac', 'sat_spiral_frac', 'sat_smooth_frac', 'sat_spiral_half_frac', 'median_sat_pfeat'))\n",
    "                                   #dtype=('i4', 'f8', 'S8', 'S8', 'f8', 'f8', 'f8', 'f8', 'f8'))\n",
    "\n",
    "    \n",
    "#the issue is this hstack here - should be a match based on galaxy number\n",
    "galaxy_table_joined = join(galaxy_table, group_data_add, keys='galaxy_num', join_type='inner')\n",
    "print(len(galaxy_table))"
   ]
  },
  {
   "cell_type": "code",
   "execution_count": 42,
   "metadata": {},
   "outputs": [
    {
     "name": "stdout",
     "output_type": "stream",
     "text": [
      "12352\n",
      "42919\n",
      "(array([27753, 27754, 27755, 27756]),)\n",
      "12352\n",
      "(array([7768, 7820, 7826, 7827]),)\n"
     ]
    }
   ],
   "source": [
    "print(len(group_data_add))\n",
    "print(len(galaxy_table))\n",
    "#print(np.where(group_data_add['galaxy_num']==2419))\n",
    "print(np.where(galaxy_table['group_num']==2419))\n",
    "galaxy_table2 = hstack([galaxy_table, group_data_add], join_type='inner')\n",
    "print(len(galaxy_table2))\n",
    "print(np.where(galaxy_table_joined['group_num']==2419))"
   ]
  },
  {
   "cell_type": "code",
   "execution_count": 28,
   "metadata": {},
   "outputs": [
    {
     "name": "stdout",
     "output_type": "stream",
     "text": [
      "42919\n",
      "42919\n",
      "30567\n",
      "73486\n"
     ]
    }
   ],
   "source": [
    "print(len(cutdata))\n",
    "print(len(galaxy_table))\n",
    "print(single_gal_groups)\n",
    "print(len(galaxy_table) + single_gal_groups)"
   ]
  },
  {
   "cell_type": "code",
   "execution_count": 43,
   "metadata": {},
   "outputs": [],
   "source": [
    "group_table.write(\"../group_table2.fits\", format='fits', overwrite=True)\n",
    "galaxy_table.write(\"../galaxy_table2.fits\", format='fits', overwrite=True)"
   ]
  },
  {
   "cell_type": "code",
   "execution_count": null,
   "metadata": {},
   "outputs": [],
   "source": []
  }
 ],
 "metadata": {
  "kernelspec": {
   "display_name": "Python 2",
   "language": "python",
   "name": "python2"
  },
  "language_info": {
   "codemirror_mode": {
    "name": "ipython",
    "version": 2
   },
   "file_extension": ".py",
   "mimetype": "text/x-python",
   "name": "python",
   "nbconvert_exporter": "python",
   "pygments_lexer": "ipython2",
   "version": "2.7.15"
  }
 },
 "nbformat": 4,
 "nbformat_minor": 2
}
