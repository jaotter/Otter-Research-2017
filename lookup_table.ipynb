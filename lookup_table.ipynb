{
 "cells": [
  {
   "cell_type": "code",
   "execution_count": 3,
   "metadata": {
    "collapsed": true
   },
   "outputs": [],
   "source": [
    "from __future__ import division\n",
    "from astropy.io import fits\n",
    "import numpy as np\n",
    "from astropy.cosmology import FlatLambdaCDM\n",
    "from astropy import units as u\n",
    "from astropy.table import Table\n",
    "import math\n",
    "import csv\n",
    "\n",
    "H0 = 72.\n",
    "cosmo = FlatLambdaCDM(H0, Om0=0.3)\n",
    "h = H0/100"
   ]
  },
  {
   "cell_type": "code",
   "execution_count": 3,
   "metadata": {
    "collapsed": true
   },
   "outputs": [],
   "source": [
    "hdulist = fits.open('../JHU_mstell_ssfr_Yang_gzoo.fits')\n",
    "tbdata = hdulist[1].data\n",
    "color = tbdata['col10'] #^{0.1}(g-r), K-E corrected to z=0.1, petro\n",
    "M_r = tbdata['col9'] #^{0.1}(M_r) - 5\\log h, K-E corrected to z=0.1, petro\n",
    "centsat = tbdata['col4_2'] #if BRIGHTEST galaxy in group, is 1, otherwise 2\n",
    "pfeatures = tbdata['t01_smooth_or_features_a02_features_or_disk_weighted_fraction']\n",
    "psmooth = tbdata['t01_smooth_or_features_a01_smooth_weighted_fraction']\n",
    "#absmag = tbdata['ABSMAG']\n",
    "#absmag_r = absmag[:,4]\n",
    "ssfr = tbdata['AVG_SSFR']\n",
    "z = tbdata['Z'] #Schlegel redshift from mpa-jhu\n",
    "z_warn = tbdata['Z_WARNING'] #if non-zero, don't sue Schlegel redshift\n",
    "#mass = tbdata['MASS'] #stellar mass from K correction fit, in h^-2 Msun units (from nsatlas)\n",
    "mass = tbdata['AVG_MSTELL']\n",
    "group_num = tbdata['col3_2']\n",
    "galaxy_num = tbdata['col1_2']\n",
    "hdulist.close()\n",
    "\n",
    "hdulist2 = fits.open('../petroC_group.fits')\n",
    "tbdata2 = hdulist2[1].data\n",
    "petroC_group_num = tbdata2['col1'] #group number\n",
    "petroC_halo_mass = tbdata2['col7'] #Luminosity weighted halo mass estimate, units: log M_halo/ (M_{\\odot}/h)\n",
    "hdulist2.close()"
   ]
  },
  {
   "cell_type": "code",
   "execution_count": 5,
   "metadata": {
    "collapsed": false
   },
   "outputs": [
    {
     "name": "stdout",
     "output_type": "stream",
     "text": [
      "(-20.084842305774437, -19.37150478793078)\n"
     ]
    }
   ],
   "source": [
    "#Magnitude limit calculation\n",
    "z_lim = 0.06\n",
    "d = cosmo.luminosity_distance(z_lim).to(u.pc)\n",
    "m = 17\n",
    "M_limit = m - 5*math.log(d.value,10) + 5 \n",
    "adj_M_limit = M_limit - 5*math.log(h,10)\n",
    "print(M_limit, adj_M_limit)"
   ]
  },
  {
   "cell_type": "code",
   "execution_count": 6,
   "metadata": {
    "collapsed": false
   },
   "outputs": [],
   "source": [
    "halo_mass = []\n",
    "\n",
    "redpas_ind = []\n",
    "redpas_pfeatures = []\n",
    "redpas_psmooth = []\n",
    "redpas_color = []\n",
    "redpas_sfr = []\n",
    "redpas_mr = []\n",
    "redpas_mass = []\n",
    "redpas_galnum = []\n",
    "\n",
    "bluact_ind = []\n",
    "bluact_pfeatures = []\n",
    "bluact_psmooth = []\n",
    "bluact_color = []\n",
    "bluact_sfr = []\n",
    "bluact_mr = []\n",
    "bluact_mass = []\n",
    "bluact_galnum = []\n",
    "\n",
    "redact_ind = []\n",
    "redact_pfeatures = []\n",
    "redact_psmooth = []\n",
    "redact_color = []\n",
    "redact_sfr = []\n",
    "redact_mr = []\n",
    "redact_mass = []\n",
    "redact_galnum = []\n",
    "\n",
    "group_list = [[67926]]\n",
    "\n",
    "for i in np.arange(pfeatures.size):\n",
    "    group_ind = np.where(petroC_group_num == group_num[i])\n",
    "    halo_mass.append(petroC_halo_mass[group_ind[0]])\n",
    "    \n",
    "    if z[i] > 0.01 and z[i] < 0.06 and M_r[i] < adj_M_limit:\n",
    "        groups = np.array([item[0] for item in group_list])\n",
    "        ind = np.where(groups == group_num[i])\n",
    "        if ind[0].size == 0: #if the group isn't in the array yet\n",
    "            group_list.append([group_num[i]])\n",
    "            group_list[-1].append(galaxy_num[i])\n",
    "        else:\n",
    "            group_list[np.squeeze(ind[0])].append(galaxy_num[i])\n",
    "        color_line = 0.7 - 0.032*(M_r[i] + 16.5)\n",
    "        active_line = -10 + 0.094*(M_r[i] + 15)\n",
    "        logSSFR = ssfr[i]\n",
    "        \n",
    "        if color[i] > color_line: #red galaxies\n",
    "            if logSSFR <= active_line: #passive galaxies - redpas type\n",
    "                redpas_ind.append((i, centsat[i]))\n",
    "                redpas_pfeatures.append((pfeatures[i], centsat[i]))\n",
    "                redpas_psmooth.append((psmooth[i], centsat[i]))\n",
    "                redpas_color.append((color[i], centsat[i]))\n",
    "                redpas_sfr.append((logSSFR, centsat[i]))\n",
    "                redpas_mr.append((M_r[i], centsat[i]))\n",
    "                redpas_mass.append((mass[i], centsat[i]))\n",
    "                redpas_galnum.append((galaxy_num[i], centsat[i]))\n",
    "            else: #red and active - redact type\n",
    "                redact_ind.append((i, centsat[i]))\n",
    "                redact_pfeatures.append((pfeatures[i], centsat[i]))\n",
    "                redact_psmooth.append((psmooth[i], centsat[i]))\n",
    "                redact_color.append((color[i], centsat[i]))\n",
    "                redact_sfr.append((logSSFR,centsat[i]))\n",
    "                redact_mr.append((M_r[i],centsat[i]))\n",
    "                redact_mass.append((mass[i], centsat[i]))\n",
    "                redact_galnum.append((galaxy_num[i], centsat[i]))\n",
    "        elif logSSFR >= active_line and color[i] < color_line: #blue and active - bluact type\n",
    "            bluact_ind.append((i, centsat[i]))\n",
    "            bluact_pfeatures.append((pfeatures[i],centsat[i]))\n",
    "            bluact_psmooth.append((psmooth[i],centsat[i]))\n",
    "            bluact_color.append((color[i],centsat[i]))\n",
    "            bluact_sfr.append((logSSFR,centsat[i]))\n",
    "            bluact_mr.append((M_r[i],centsat[i]))\n",
    "            bluact_mass.append((mass[i],centsat[i]))\n",
    "            bluact_galnum.append((galaxy_num[i], centsat[i]))"
   ]
  },
  {
   "cell_type": "code",
   "execution_count": 20,
   "metadata": {
    "collapsed": false
   },
   "outputs": [],
   "source": [
    "group_list_arr = np.array([np.array(xi) for xi in group_list])"
   ]
  },
  {
   "cell_type": "code",
   "execution_count": 17,
   "metadata": {
    "collapsed": false
   },
   "outputs": [
    {
     "ename": "ValueError",
     "evalue": "Illegal format ('O', (2,)).",
     "output_type": "error",
     "traceback": [
      "\u001b[0;31m---------------------------------------------------------------------------\u001b[0m",
      "\u001b[0;31mValueError\u001b[0m                                Traceback (most recent call last)",
      "\u001b[0;32m<ipython-input-17-1e54d85827b6>\u001b[0m in \u001b[0;36m<module>\u001b[0;34m()\u001b[0m\n\u001b[1;32m      9\u001b[0m \u001b[0;34m\u001b[0m\u001b[0m\n\u001b[1;32m     10\u001b[0m \u001b[0malltab\u001b[0m \u001b[0;34m=\u001b[0m \u001b[0mTable\u001b[0m\u001b[0;34m(\u001b[0m\u001b[0;34m[\u001b[0m\u001b[0mhalo_mass\u001b[0m\u001b[0;34m,\u001b[0m \u001b[0mpfeatures\u001b[0m\u001b[0;34m,\u001b[0m \u001b[0mpsmooth\u001b[0m\u001b[0;34m,\u001b[0m \u001b[0mcolor\u001b[0m\u001b[0;34m,\u001b[0m \u001b[0mssfr\u001b[0m\u001b[0;34m,\u001b[0m \u001b[0mM_r\u001b[0m\u001b[0;34m,\u001b[0m \u001b[0mmass\u001b[0m\u001b[0;34m,\u001b[0m \u001b[0mz\u001b[0m\u001b[0;34m,\u001b[0m \u001b[0mcentsat\u001b[0m\u001b[0;34m,\u001b[0m \u001b[0mgalaxy_num\u001b[0m\u001b[0;34m,\u001b[0m \u001b[0mgroup_num\u001b[0m\u001b[0;34m]\u001b[0m\u001b[0;34m,\u001b[0m \u001b[0mnames\u001b[0m \u001b[0;34m=\u001b[0m \u001b[0;34m(\u001b[0m\u001b[0;34m'halo_mass'\u001b[0m\u001b[0;34m,\u001b[0m \u001b[0;34m'pfeatures'\u001b[0m\u001b[0;34m,\u001b[0m \u001b[0;34m'psmooth'\u001b[0m\u001b[0;34m,\u001b[0m \u001b[0;34m'color'\u001b[0m\u001b[0;34m,\u001b[0m \u001b[0;34m'ssfr'\u001b[0m\u001b[0;34m,\u001b[0m \u001b[0;34m'M_r'\u001b[0m\u001b[0;34m,\u001b[0m \u001b[0;34m'mass'\u001b[0m\u001b[0;34m,\u001b[0m \u001b[0;34m'z'\u001b[0m\u001b[0;34m,\u001b[0m \u001b[0;34m'centsat'\u001b[0m\u001b[0;34m,\u001b[0m \u001b[0;34m'galaxy_num'\u001b[0m\u001b[0;34m,\u001b[0m \u001b[0;34m'group_num'\u001b[0m\u001b[0;34m)\u001b[0m\u001b[0;34m)\u001b[0m\u001b[0;34m\u001b[0m\u001b[0m\n\u001b[0;32m---> 11\u001b[0;31m \u001b[0malltab\u001b[0m\u001b[0;34m.\u001b[0m\u001b[0mwrite\u001b[0m\u001b[0;34m(\u001b[0m\u001b[0;34m'../lookup_all.fits'\u001b[0m\u001b[0;34m,\u001b[0m \u001b[0mformat\u001b[0m\u001b[0;34m=\u001b[0m\u001b[0;34m'fits'\u001b[0m\u001b[0;34m)\u001b[0m\u001b[0;34m\u001b[0m\u001b[0m\n\u001b[0m",
      "\u001b[0;32m/homes/ashill/anaconda/lib/python2.7/site-packages/astropy/table/table.pyc\u001b[0m in \u001b[0;36mwrite\u001b[0;34m(self, *args, **kwargs)\u001b[0m\n\u001b[1;32m   2445\u001b[0m         \u001b[0mpassed\u001b[0m \u001b[0mthrough\u001b[0m \u001b[0mto\u001b[0m \u001b[0mthe\u001b[0m \u001b[0munderlying\u001b[0m \u001b[0mdata\u001b[0m \u001b[0mreader\u001b[0m \u001b[0;34m(\u001b[0m\u001b[0me\u001b[0m\u001b[0;34m.\u001b[0m\u001b[0mg\u001b[0m\u001b[0;34m.\u001b[0m \u001b[0;34m`\u001b[0m\u001b[0;34m~\u001b[0m\u001b[0mastropy\u001b[0m\u001b[0;34m.\u001b[0m\u001b[0mio\u001b[0m\u001b[0;34m.\u001b[0m\u001b[0mascii\u001b[0m\u001b[0;34m.\u001b[0m\u001b[0mwrite\u001b[0m\u001b[0;34m`\u001b[0m\u001b[0;34m)\u001b[0m\u001b[0;34m.\u001b[0m\u001b[0;34m\u001b[0m\u001b[0m\n\u001b[1;32m   2446\u001b[0m         \"\"\"\n\u001b[0;32m-> 2447\u001b[0;31m         \u001b[0mio_registry\u001b[0m\u001b[0;34m.\u001b[0m\u001b[0mwrite\u001b[0m\u001b[0;34m(\u001b[0m\u001b[0mself\u001b[0m\u001b[0;34m,\u001b[0m \u001b[0;34m*\u001b[0m\u001b[0margs\u001b[0m\u001b[0;34m,\u001b[0m \u001b[0;34m**\u001b[0m\u001b[0mkwargs\u001b[0m\u001b[0;34m)\u001b[0m\u001b[0;34m\u001b[0m\u001b[0m\n\u001b[0m\u001b[1;32m   2448\u001b[0m \u001b[0;34m\u001b[0m\u001b[0m\n\u001b[1;32m   2449\u001b[0m     \u001b[0;32mdef\u001b[0m \u001b[0mcopy\u001b[0m\u001b[0;34m(\u001b[0m\u001b[0mself\u001b[0m\u001b[0;34m,\u001b[0m \u001b[0mcopy_data\u001b[0m\u001b[0;34m=\u001b[0m\u001b[0mTrue\u001b[0m\u001b[0;34m)\u001b[0m\u001b[0;34m:\u001b[0m\u001b[0;34m\u001b[0m\u001b[0m\n",
      "\u001b[0;32m/homes/ashill/anaconda/lib/python2.7/site-packages/astropy/io/registry.pyc\u001b[0m in \u001b[0;36mwrite\u001b[0;34m(data, *args, **kwargs)\u001b[0m\n\u001b[1;32m    516\u001b[0m \u001b[0;34m\u001b[0m\u001b[0m\n\u001b[1;32m    517\u001b[0m     \u001b[0mwriter\u001b[0m \u001b[0;34m=\u001b[0m \u001b[0mget_writer\u001b[0m\u001b[0;34m(\u001b[0m\u001b[0mformat\u001b[0m\u001b[0;34m,\u001b[0m \u001b[0mdata\u001b[0m\u001b[0;34m.\u001b[0m\u001b[0m__class__\u001b[0m\u001b[0;34m)\u001b[0m\u001b[0;34m\u001b[0m\u001b[0m\n\u001b[0;32m--> 518\u001b[0;31m     \u001b[0mwriter\u001b[0m\u001b[0;34m(\u001b[0m\u001b[0mdata\u001b[0m\u001b[0;34m,\u001b[0m \u001b[0;34m*\u001b[0m\u001b[0margs\u001b[0m\u001b[0;34m,\u001b[0m \u001b[0;34m**\u001b[0m\u001b[0mkwargs\u001b[0m\u001b[0;34m)\u001b[0m\u001b[0;34m\u001b[0m\u001b[0m\n\u001b[0m\u001b[1;32m    519\u001b[0m \u001b[0;34m\u001b[0m\u001b[0m\n\u001b[1;32m    520\u001b[0m \u001b[0;34m\u001b[0m\u001b[0m\n",
      "\u001b[0;32m/homes/ashill/anaconda/lib/python2.7/site-packages/astropy/io/fits/connect.pyc\u001b[0m in \u001b[0;36mwrite_table_fits\u001b[0;34m(input, output, overwrite)\u001b[0m\n\u001b[1;32m    206\u001b[0m     \"\"\"\n\u001b[1;32m    207\u001b[0m \u001b[0;34m\u001b[0m\u001b[0m\n\u001b[0;32m--> 208\u001b[0;31m     \u001b[0mtable_hdu\u001b[0m \u001b[0;34m=\u001b[0m \u001b[0mtable_to_hdu\u001b[0m\u001b[0;34m(\u001b[0m\u001b[0minput\u001b[0m\u001b[0;34m)\u001b[0m\u001b[0;34m\u001b[0m\u001b[0m\n\u001b[0m\u001b[1;32m    209\u001b[0m \u001b[0;34m\u001b[0m\u001b[0m\n\u001b[1;32m    210\u001b[0m     \u001b[0;31m# Check if output file already exists\u001b[0m\u001b[0;34m\u001b[0m\u001b[0;34m\u001b[0m\u001b[0m\n",
      "\u001b[0;32m/homes/ashill/anaconda/lib/python2.7/site-packages/astropy/io/fits/convenience.pyc\u001b[0m in \u001b[0;36mtable_to_hdu\u001b[0;34m(table)\u001b[0m\n\u001b[1;32m    491\u001b[0m             \u001b[0mcol\u001b[0m\u001b[0;34m.\u001b[0m\u001b[0mnull\u001b[0m \u001b[0;34m=\u001b[0m \u001b[0mfill_value\u001b[0m\u001b[0;34m.\u001b[0m\u001b[0mastype\u001b[0m\u001b[0;34m(\u001b[0m\u001b[0mtable\u001b[0m\u001b[0;34m[\u001b[0m\u001b[0mcol\u001b[0m\u001b[0;34m.\u001b[0m\u001b[0mname\u001b[0m\u001b[0;34m]\u001b[0m\u001b[0;34m.\u001b[0m\u001b[0mdtype\u001b[0m\u001b[0;34m)\u001b[0m\u001b[0;34m\u001b[0m\u001b[0m\n\u001b[1;32m    492\u001b[0m     \u001b[0;32melse\u001b[0m\u001b[0;34m:\u001b[0m\u001b[0;34m\u001b[0m\u001b[0m\n\u001b[0;32m--> 493\u001b[0;31m         \u001b[0mfits_rec\u001b[0m \u001b[0;34m=\u001b[0m \u001b[0mFITS_rec\u001b[0m\u001b[0;34m.\u001b[0m\u001b[0mfrom_columns\u001b[0m\u001b[0;34m(\u001b[0m\u001b[0mnp\u001b[0m\u001b[0;34m.\u001b[0m\u001b[0marray\u001b[0m\u001b[0;34m(\u001b[0m\u001b[0mtable\u001b[0m\u001b[0;34m.\u001b[0m\u001b[0mfilled\u001b[0m\u001b[0;34m(\u001b[0m\u001b[0;34m)\u001b[0m\u001b[0;34m)\u001b[0m\u001b[0;34m)\u001b[0m\u001b[0;34m\u001b[0m\u001b[0m\n\u001b[0m\u001b[1;32m    494\u001b[0m         \u001b[0mtable_hdu\u001b[0m \u001b[0;34m=\u001b[0m \u001b[0mBinTableHDU\u001b[0m\u001b[0;34m(\u001b[0m\u001b[0mfits_rec\u001b[0m\u001b[0;34m)\u001b[0m\u001b[0;34m\u001b[0m\u001b[0m\n\u001b[1;32m    495\u001b[0m \u001b[0;34m\u001b[0m\u001b[0m\n",
      "\u001b[0;32m/homes/ashill/anaconda/lib/python2.7/site-packages/astropy/io/fits/fitsrec.pyc\u001b[0m in \u001b[0;36mfrom_columns\u001b[0;34m(cls, columns, nrows, fill)\u001b[0m\n\u001b[1;32m    304\u001b[0m \u001b[0;34m\u001b[0m\u001b[0m\n\u001b[1;32m    305\u001b[0m         \u001b[0;32mif\u001b[0m \u001b[0;32mnot\u001b[0m \u001b[0misinstance\u001b[0m\u001b[0;34m(\u001b[0m\u001b[0mcolumns\u001b[0m\u001b[0;34m,\u001b[0m \u001b[0mColDefs\u001b[0m\u001b[0;34m)\u001b[0m\u001b[0;34m:\u001b[0m\u001b[0;34m\u001b[0m\u001b[0m\n\u001b[0;32m--> 306\u001b[0;31m             \u001b[0mcolumns\u001b[0m \u001b[0;34m=\u001b[0m \u001b[0mColDefs\u001b[0m\u001b[0;34m(\u001b[0m\u001b[0mcolumns\u001b[0m\u001b[0;34m)\u001b[0m\u001b[0;34m\u001b[0m\u001b[0m\n\u001b[0m\u001b[1;32m    307\u001b[0m \u001b[0;34m\u001b[0m\u001b[0m\n\u001b[1;32m    308\u001b[0m         \u001b[0;31m# read the delayed data\u001b[0m\u001b[0;34m\u001b[0m\u001b[0;34m\u001b[0m\u001b[0m\n",
      "\u001b[0;32m/homes/ashill/anaconda/lib/python2.7/site-packages/astropy/io/fits/column.pyc\u001b[0m in \u001b[0;36m__init__\u001b[0;34m(self, input, ascii)\u001b[0m\n\u001b[1;32m   1186\u001b[0m         \u001b[0;32melif\u001b[0m \u001b[0misinstance\u001b[0m\u001b[0;34m(\u001b[0m\u001b[0minput\u001b[0m\u001b[0;34m,\u001b[0m \u001b[0mnp\u001b[0m\u001b[0;34m.\u001b[0m\u001b[0mndarray\u001b[0m\u001b[0;34m)\u001b[0m \u001b[0;32mand\u001b[0m \u001b[0minput\u001b[0m\u001b[0;34m.\u001b[0m\u001b[0mdtype\u001b[0m\u001b[0;34m.\u001b[0m\u001b[0mfields\u001b[0m \u001b[0;32mis\u001b[0m \u001b[0;32mnot\u001b[0m \u001b[0mNone\u001b[0m\u001b[0;34m:\u001b[0m\u001b[0;34m\u001b[0m\u001b[0m\n\u001b[1;32m   1187\u001b[0m             \u001b[0;31m# Construct columns from the fields of a record array\u001b[0m\u001b[0;34m\u001b[0m\u001b[0;34m\u001b[0m\u001b[0m\n\u001b[0;32m-> 1188\u001b[0;31m             \u001b[0mself\u001b[0m\u001b[0;34m.\u001b[0m\u001b[0m_init_from_array\u001b[0m\u001b[0;34m(\u001b[0m\u001b[0minput\u001b[0m\u001b[0;34m)\u001b[0m\u001b[0;34m\u001b[0m\u001b[0m\n\u001b[0m\u001b[1;32m   1189\u001b[0m         \u001b[0;32melif\u001b[0m \u001b[0misiterable\u001b[0m\u001b[0;34m(\u001b[0m\u001b[0minput\u001b[0m\u001b[0;34m)\u001b[0m\u001b[0;34m:\u001b[0m\u001b[0;34m\u001b[0m\u001b[0m\n\u001b[1;32m   1190\u001b[0m             \u001b[0;31m# if the input is a list of Columns\u001b[0m\u001b[0;34m\u001b[0m\u001b[0;34m\u001b[0m\u001b[0m\n",
      "\u001b[0;32m/homes/ashill/anaconda/lib/python2.7/site-packages/astropy/io/fits/column.pyc\u001b[0m in \u001b[0;36m_init_from_array\u001b[0;34m(self, array)\u001b[0m\n\u001b[1;32m   1221\u001b[0m             \u001b[0mcname\u001b[0m \u001b[0;34m=\u001b[0m \u001b[0marray\u001b[0m\u001b[0;34m.\u001b[0m\u001b[0mdtype\u001b[0m\u001b[0;34m.\u001b[0m\u001b[0mnames\u001b[0m\u001b[0;34m[\u001b[0m\u001b[0midx\u001b[0m\u001b[0;34m]\u001b[0m\u001b[0;34m\u001b[0m\u001b[0m\n\u001b[1;32m   1222\u001b[0m             \u001b[0mftype\u001b[0m \u001b[0;34m=\u001b[0m \u001b[0marray\u001b[0m\u001b[0;34m.\u001b[0m\u001b[0mdtype\u001b[0m\u001b[0;34m.\u001b[0m\u001b[0mfields\u001b[0m\u001b[0;34m[\u001b[0m\u001b[0mcname\u001b[0m\u001b[0;34m]\u001b[0m\u001b[0;34m[\u001b[0m\u001b[0;36m0\u001b[0m\u001b[0;34m]\u001b[0m\u001b[0;34m\u001b[0m\u001b[0m\n\u001b[0;32m-> 1223\u001b[0;31m             \u001b[0mformat\u001b[0m \u001b[0;34m=\u001b[0m \u001b[0mself\u001b[0m\u001b[0;34m.\u001b[0m\u001b[0m_col_format_cls\u001b[0m\u001b[0;34m.\u001b[0m\u001b[0mfrom_recformat\u001b[0m\u001b[0;34m(\u001b[0m\u001b[0mftype\u001b[0m\u001b[0;34m)\u001b[0m\u001b[0;34m\u001b[0m\u001b[0m\n\u001b[0m\u001b[1;32m   1224\u001b[0m \u001b[0;34m\u001b[0m\u001b[0m\n\u001b[1;32m   1225\u001b[0m             \u001b[0;31m# Determine the appropriate dimensions for items in the column\u001b[0m\u001b[0;34m\u001b[0m\u001b[0;34m\u001b[0m\u001b[0m\n",
      "\u001b[0;32m/homes/ashill/anaconda/lib/python2.7/site-packages/astropy/io/fits/column.pyc\u001b[0m in \u001b[0;36mfrom_recformat\u001b[0;34m(cls, recformat)\u001b[0m\n\u001b[1;32m    222\u001b[0m         \u001b[0;34m\"\"\"Creates a column format from a Numpy record dtype format.\"\"\"\u001b[0m\u001b[0;34m\u001b[0m\u001b[0m\n\u001b[1;32m    223\u001b[0m \u001b[0;34m\u001b[0m\u001b[0m\n\u001b[0;32m--> 224\u001b[0;31m         \u001b[0;32mreturn\u001b[0m \u001b[0mcls\u001b[0m\u001b[0;34m(\u001b[0m\u001b[0m_convert_format\u001b[0m\u001b[0;34m(\u001b[0m\u001b[0mrecformat\u001b[0m\u001b[0;34m,\u001b[0m \u001b[0mreverse\u001b[0m\u001b[0;34m=\u001b[0m\u001b[0mTrue\u001b[0m\u001b[0;34m)\u001b[0m\u001b[0;34m)\u001b[0m\u001b[0;34m\u001b[0m\u001b[0m\n\u001b[0m\u001b[1;32m    225\u001b[0m \u001b[0;34m\u001b[0m\u001b[0m\n\u001b[1;32m    226\u001b[0m     \u001b[0;34m@\u001b[0m\u001b[0mlazyproperty\u001b[0m\u001b[0;34m\u001b[0m\u001b[0m\n",
      "\u001b[0;32m/homes/ashill/anaconda/lib/python2.7/site-packages/astropy/io/fits/column.pyc\u001b[0m in \u001b[0;36m_convert_format\u001b[0;34m(format, reverse)\u001b[0m\n\u001b[1;32m   2213\u001b[0m \u001b[0;34m\u001b[0m\u001b[0m\n\u001b[1;32m   2214\u001b[0m     \u001b[0;32mif\u001b[0m \u001b[0mreverse\u001b[0m\u001b[0;34m:\u001b[0m\u001b[0;34m\u001b[0m\u001b[0m\n\u001b[0;32m-> 2215\u001b[0;31m         \u001b[0;32mreturn\u001b[0m \u001b[0m_convert_record2fits\u001b[0m\u001b[0;34m(\u001b[0m\u001b[0mformat\u001b[0m\u001b[0;34m)\u001b[0m\u001b[0;34m\u001b[0m\u001b[0m\n\u001b[0m\u001b[1;32m   2216\u001b[0m     \u001b[0;32melse\u001b[0m\u001b[0;34m:\u001b[0m\u001b[0;34m\u001b[0m\u001b[0m\n\u001b[1;32m   2217\u001b[0m         \u001b[0;32mreturn\u001b[0m \u001b[0m_convert_fits2record\u001b[0m\u001b[0;34m(\u001b[0m\u001b[0mformat\u001b[0m\u001b[0;34m)\u001b[0m\u001b[0;34m\u001b[0m\u001b[0m\n",
      "\u001b[0;32m/homes/ashill/anaconda/lib/python2.7/site-packages/astropy/io/fits/column.pyc\u001b[0m in \u001b[0;36m_convert_record2fits\u001b[0;34m(format)\u001b[0m\n\u001b[1;32m   2176\u001b[0m         \u001b[0moutput_format\u001b[0m \u001b[0;34m=\u001b[0m \u001b[0mrepeat\u001b[0m \u001b[0;34m+\u001b[0m \u001b[0mNUMPY2FITS\u001b[0m\u001b[0;34m[\u001b[0m\u001b[0mrecformat\u001b[0m\u001b[0;34m]\u001b[0m\u001b[0;34m\u001b[0m\u001b[0m\n\u001b[1;32m   2177\u001b[0m     \u001b[0;32melse\u001b[0m\u001b[0;34m:\u001b[0m\u001b[0;34m\u001b[0m\u001b[0m\n\u001b[0;32m-> 2178\u001b[0;31m         \u001b[0;32mraise\u001b[0m \u001b[0mValueError\u001b[0m\u001b[0;34m(\u001b[0m\u001b[0;34m'Illegal format {}.'\u001b[0m\u001b[0;34m.\u001b[0m\u001b[0mformat\u001b[0m\u001b[0;34m(\u001b[0m\u001b[0mformat\u001b[0m\u001b[0;34m)\u001b[0m\u001b[0;34m)\u001b[0m\u001b[0;34m\u001b[0m\u001b[0m\n\u001b[0m\u001b[1;32m   2179\u001b[0m \u001b[0;34m\u001b[0m\u001b[0m\n\u001b[1;32m   2180\u001b[0m     \u001b[0;32mreturn\u001b[0m \u001b[0moutput_format\u001b[0m\u001b[0;34m\u001b[0m\u001b[0m\n",
      "\u001b[0;31mValueError\u001b[0m: Illegal format ('O', (2,))."
     ]
    }
   ],
   "source": [
    "tredpas = Table([redpas_ind, redpas_pfeatures, redpas_psmooth, redpas_color, redpas_sfr, redpas_mr, redpas_mass, redpas_galnum], names = ('redpas_ind', 'redpas_pfeatures', 'redpas_psmooth', 'redpas_color', 'redpas_sfr', 'redpas_mr', 'redpas_mass', 'redpas_galnum'))\n",
    "tredpas.write('../lookup_redpas_cut.fits', format='fits')\n",
    "\n",
    "tbluact = Table([bluact_ind, bluact_pfeatures, bluact_psmooth, bluact_color, bluact_sfr, bluact_mr, bluact_mass, bluact_galnum], names = ('bluact_ind', 'bluact_pfeatures', 'bluact_psmooth', 'bluact_color', 'bluact_sfr', 'bluact_mr', 'bluact_mass', 'bluact_galnum'))\n",
    "tbluact.write('../lookup_bluact_cut.fits', format='fits')\n",
    "\n",
    "tredact = Table([redact_ind, redact_pfeatures, redact_psmooth, redact_color, redact_sfr, redact_mr, redact_mass, redact_galnum], names = ('redact_ind', 'redact_pfeatures', 'redact_psmooth', 'redact_color', 'redact_sfr', 'redact_mr', 'redact_mass', 'redact_galnum'))\n",
    "tredact.write('../lookup_redact_cut.fits', format='fits')\n",
    "\n",
    "alltab = Table([halo_mass, pfeatures, psmooth, color, ssfr, M_r, mass, z, centsat, galaxy_num, group_num], names = ('halo_mass', 'pfeatures', 'psmooth', 'color', 'ssfr', 'M_r', 'mass', 'z', 'centsat', 'galaxy_num', 'group_num'))\n",
    "alltab.write('../lookup_all_cut.fits', format='fits')"
   ]
  },
  {
   "cell_type": "code",
   "execution_count": 28,
   "metadata": {
    "collapsed": false
   },
   "outputs": [],
   "source": [
    "with open(\"lookup_group_cut.csv\", \"wb\") as f:\n",
    "    writer = csv.writer(f)\n",
    "    writer.writerows(group_list)"
   ]
  },
  {
   "cell_type": "code",
   "execution_count": 18,
   "metadata": {
    "collapsed": false
   },
   "outputs": [
    {
     "data": {
      "text/html": [
       "&lt;Table length=232014&gt;\n",
       "<table id=\"table140381255788752\" class=\"table-striped table-bordered table-condensed\">\n",
       "<thead><tr><th>halo_mass [2]</th><th>pfeatures</th><th>psmooth</th><th>color</th><th>ssfr</th><th>M_r</th><th>mass</th><th>z</th><th>centsat</th><th>galaxy_num</th><th>group_num</th></tr></thead>\n",
       "<thead><tr><th>object</th><th>float32</th><th>float32</th><th>float64</th><th>float32</th><th>float64</th><th>float32</th><th>float32</th><th>int64</th><th>int64</th><th>int64</th></tr></thead>\n",
       "<tr><td>[ 12.3163] .. 2</td><td>0.137</td><td>0.824</td><td>0.567812</td><td>-10.116</td><td>-19.802763</td><td>10.1547</td><td>0.0650235</td><td>2</td><td>25060</td><td>25112</td></tr>\n",
       "<tr><td>[ 12.8741] .. 1</td><td>0.087</td><td>0.87</td><td>0.9982677</td><td>-11.8113</td><td>-21.3413029</td><td>11.1778</td><td>0.121316</td><td>1</td><td>25064</td><td>84512</td></tr>\n",
       "<tr><td>[ 12.3163] .. 1</td><td>0.191</td><td>0.787</td><td>0.8753343</td><td>-11.5204</td><td>-19.922863</td><td>10.5777</td><td>0.0645888</td><td>1</td><td>25061</td><td>25112</td></tr>\n",
       "<tr><td>[ 12.2007] .. 1</td><td>1.0</td><td>0.0</td><td>0.7734479</td><td>-10.466</td><td>-20.3655033</td><td>10.655</td><td>0.0480963</td><td>1</td><td>25503</td><td>84808</td></tr>\n",
       "<tr><td>[ 12.1431] .. 1</td><td>0.064</td><td>0.894</td><td>0.9542314</td><td>-12.1338</td><td>-20.3300915</td><td>10.8579</td><td>0.0841035</td><td>1</td><td>10134</td><td>74674</td></tr>\n",
       "<tr><td>[ 12.263] .. 1</td><td>0.447</td><td>0.553</td><td>0.8453194</td><td>-11.236</td><td>-20.5215645</td><td>11.0639</td><td>0.0902407</td><td>1</td><td>8736</td><td>73726</td></tr>\n",
       "<tr><td>[ 12.158] .. 1</td><td>0.366</td><td>0.634</td><td>0.7352224</td><td>-10.1443</td><td>-20.3526897</td><td>10.6943</td><td>0.0652254</td><td>1</td><td>7209</td><td>72748</td></tr>\n",
       "<tr><td>[ 12.5087] .. 1</td><td>1.0</td><td>0.0</td><td>0.6250712</td><td>-9.95137</td><td>-20.9211197</td><td>10.8847</td><td>0.0649208</td><td>1</td><td>7210</td><td>72749</td></tr>\n",
       "<tr><td>[ 11.8219] .. 1</td><td>0.109</td><td>0.87</td><td>0.5931152</td><td>-9.94026</td><td>-19.6553574</td><td>10.1631</td><td>0.065152</td><td>1</td><td>8732</td><td>73724</td></tr>\n",
       "<tr><td>[ 0.] .. 1</td><td>0.061</td><td>0.898</td><td>0.9066654</td><td>-10.8291</td><td>-19.4264717</td><td>10.3449</td><td>0.0565759</td><td>1</td><td>25287</td><td>84649</td></tr>\n",
       "<tr><td>...</td><td>...</td><td>...</td><td>...</td><td>...</td><td>...</td><td>...</td><td>...</td><td>...</td><td>...</td><td>...</td></tr>\n",
       "<tr><td>[ 12.5267] .. 1</td><td>0.099</td><td>0.852</td><td>1.0014143</td><td>-11.927</td><td>-20.8243809</td><td>-1.0</td><td>0.105356</td><td>1</td><td>126164</td><td>149430</td></tr>\n",
       "<tr><td>[ 12.6595] .. 1</td><td>0.175</td><td>0.8</td><td>0.9085422</td><td>-12.0658</td><td>-21.1006184</td><td>-1.0</td><td>0.110798</td><td>1</td><td>525067</td><td>400879</td></tr>\n",
       "<tr><td>[ 0.] .. 1</td><td>0.318</td><td>0.659</td><td>0.2991187</td><td>-11.1872</td><td>-17.3235226</td><td>-1.0</td><td>0.0250382</td><td>1</td><td>49111</td><td>100388</td></tr>\n",
       "<tr><td>[ 14.2229] .. 2</td><td>0.223</td><td>0.719</td><td>0.9587875</td><td>-12.2344</td><td>-20.450243</td><td>-1.0</td><td>0.0472109</td><td>2</td><td>525081</td><td>189</td></tr>\n",
       "<tr><td>[ 14.2229] .. 2</td><td>0.122</td><td>0.829</td><td>0.392987</td><td>-10.7427</td><td>-19.1261044</td><td>-1.0</td><td>0.0460373</td><td>2</td><td>121378</td><td>189</td></tr>\n",
       "<tr><td>[ 12.6694] .. 2</td><td>0.02</td><td>0.891</td><td>0.8561108</td><td>-11.2495</td><td>-20.0212746</td><td>-1.0</td><td>0.0784817</td><td>2</td><td>49109</td><td>26789</td></tr>\n",
       "<tr><td>[ 0.] .. 1</td><td>0.645</td><td>0.3</td><td>0.5491982</td><td>-10.8546</td><td>-19.8011265</td><td>-1.0</td><td>0.0544281</td><td>1</td><td>49106</td><td>100385</td></tr>\n",
       "<tr><td>[ 0.] .. 1</td><td>0.132</td><td>0.868</td><td>0.8972247</td><td>-12.0646</td><td>-19.0220394</td><td>-1.0</td><td>0.0338702</td><td>1</td><td>525073</td><td>400883</td></tr>\n",
       "<tr><td>[ 13.4504] .. 1</td><td>0.17</td><td>0.766</td><td>1.0460422</td><td>-11.8803</td><td>-21.8991718</td><td>-1.0</td><td>0.167358</td><td>1</td><td>525069</td><td>400881</td></tr>\n",
       "<tr><td>[ 12.7954] .. 1</td><td>0.093</td><td>0.814</td><td>0.9216478</td><td>-12.3069</td><td>-21.2661514</td><td>-1.0</td><td>0.111548</td><td>1</td><td>49107</td><td>100386</td></tr>\n",
       "</table>"
      ],
      "text/plain": [
       "<Table length=232014>\n",
       " halo_mass [2]  pfeatures psmooth   color   ... centsat galaxy_num group_num\n",
       "     object      float32  float32  float64  ...  int64    int64      int64  \n",
       "--------------- --------- ------- --------- ... ------- ---------- ---------\n",
       "[ 12.3163] .. 2     0.137   0.824  0.567812 ...       2      25060     25112\n",
       "[ 12.8741] .. 1     0.087    0.87 0.9982677 ...       1      25064     84512\n",
       "[ 12.3163] .. 1     0.191   0.787 0.8753343 ...       1      25061     25112\n",
       "[ 12.2007] .. 1       1.0     0.0 0.7734479 ...       1      25503     84808\n",
       "[ 12.1431] .. 1     0.064   0.894 0.9542314 ...       1      10134     74674\n",
       " [ 12.263] .. 1     0.447   0.553 0.8453194 ...       1       8736     73726\n",
       " [ 12.158] .. 1     0.366   0.634 0.7352224 ...       1       7209     72748\n",
       "[ 12.5087] .. 1       1.0     0.0 0.6250712 ...       1       7210     72749\n",
       "[ 11.8219] .. 1     0.109    0.87 0.5931152 ...       1       8732     73724\n",
       "     [ 0.] .. 1     0.061   0.898 0.9066654 ...       1      25287     84649\n",
       "            ...       ...     ...       ... ...     ...        ...       ...\n",
       "[ 12.5267] .. 1     0.099   0.852 1.0014143 ...       1     126164    149430\n",
       "[ 12.6595] .. 1     0.175     0.8 0.9085422 ...       1     525067    400879\n",
       "     [ 0.] .. 1     0.318   0.659 0.2991187 ...       1      49111    100388\n",
       "[ 14.2229] .. 2     0.223   0.719 0.9587875 ...       2     525081       189\n",
       "[ 14.2229] .. 2     0.122   0.829  0.392987 ...       2     121378       189\n",
       "[ 12.6694] .. 2      0.02   0.891 0.8561108 ...       2      49109     26789\n",
       "     [ 0.] .. 1     0.645     0.3 0.5491982 ...       1      49106    100385\n",
       "     [ 0.] .. 1     0.132   0.868 0.8972247 ...       1     525073    400883\n",
       "[ 13.4504] .. 1      0.17   0.766 1.0460422 ...       1     525069    400881\n",
       "[ 12.7954] .. 1     0.093   0.814 0.9216478 ...       1      49107    100386"
      ]
     },
     "execution_count": 18,
     "metadata": {},
     "output_type": "execute_result"
    }
   ],
   "source": [
    "alltab"
   ]
  },
  {
   "cell_type": "code",
   "execution_count": null,
   "metadata": {
    "collapsed": true
   },
   "outputs": [],
   "source": []
  }
 ],
 "metadata": {
  "kernelspec": {
   "display_name": "Python 2",
   "language": "python",
   "name": "python2"
  },
  "language_info": {
   "codemirror_mode": {
    "name": "ipython",
    "version": 2
   },
   "file_extension": ".py",
   "mimetype": "text/x-python",
   "name": "python",
   "nbconvert_exporter": "python",
   "pygments_lexer": "ipython2",
   "version": "2.7.12"
  }
 },
 "nbformat": 4,
 "nbformat_minor": 0
}
